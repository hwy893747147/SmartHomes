{
  "nbformat": 4,
  "nbformat_minor": 0,
  "metadata": {
    "colab": {
      "name": "Sub5ApplyVideo.ipynb",
      "provenance": [],
      "collapsed_sections": [],
      "toc_visible": true
    },
    "kernelspec": {
      "name": "python3",
      "display_name": "Python 3"
    },
    "accelerator": "GPU",
    "widgets": {
      "application/vnd.jupyter.widget-state+json": {
        "41891d9acfa24e48887eb2d7f22c1ecf": {
          "model_module": "@jupyter-widgets/controls",
          "model_name": "HBoxModel",
          "state": {
            "_view_name": "HBoxView",
            "_dom_classes": [],
            "_model_name": "HBoxModel",
            "_view_module": "@jupyter-widgets/controls",
            "_model_module_version": "1.5.0",
            "_view_count": null,
            "_view_module_version": "1.5.0",
            "box_style": "",
            "layout": "IPY_MODEL_91d7acf334264c00a4d527d838f8711a",
            "_model_module": "@jupyter-widgets/controls",
            "children": [
              "IPY_MODEL_b4a5a91aeeee4ed18f34710c63484980",
              "IPY_MODEL_82c712583b5947e38b8380b9fc81c57f"
            ]
          }
        },
        "91d7acf334264c00a4d527d838f8711a": {
          "model_module": "@jupyter-widgets/base",
          "model_name": "LayoutModel",
          "state": {
            "_view_name": "LayoutView",
            "grid_template_rows": null,
            "right": null,
            "justify_content": null,
            "_view_module": "@jupyter-widgets/base",
            "overflow": null,
            "_model_module_version": "1.2.0",
            "_view_count": null,
            "flex_flow": null,
            "width": null,
            "min_width": null,
            "border": null,
            "align_items": null,
            "bottom": null,
            "_model_module": "@jupyter-widgets/base",
            "top": null,
            "grid_column": null,
            "overflow_y": null,
            "overflow_x": null,
            "grid_auto_flow": null,
            "grid_area": null,
            "grid_template_columns": null,
            "flex": null,
            "_model_name": "LayoutModel",
            "justify_items": null,
            "grid_row": null,
            "max_height": null,
            "align_content": null,
            "visibility": null,
            "align_self": null,
            "height": null,
            "min_height": null,
            "padding": null,
            "grid_auto_rows": null,
            "grid_gap": null,
            "max_width": null,
            "order": null,
            "_view_module_version": "1.2.0",
            "grid_template_areas": null,
            "object_position": null,
            "object_fit": null,
            "grid_auto_columns": null,
            "margin": null,
            "display": null,
            "left": null
          }
        },
        "b4a5a91aeeee4ed18f34710c63484980": {
          "model_module": "@jupyter-widgets/controls",
          "model_name": "FloatProgressModel",
          "state": {
            "_view_name": "ProgressView",
            "style": "IPY_MODEL_68829f089fa24bf4a7e5f460bf9d771c",
            "_dom_classes": [],
            "description": "100%",
            "_model_name": "FloatProgressModel",
            "bar_style": "success",
            "max": 2032,
            "_view_module": "@jupyter-widgets/controls",
            "_model_module_version": "1.5.0",
            "value": 2032,
            "_view_count": null,
            "_view_module_version": "1.5.0",
            "orientation": "horizontal",
            "min": 0,
            "description_tooltip": null,
            "_model_module": "@jupyter-widgets/controls",
            "layout": "IPY_MODEL_c5f797c37f39455c9ddc87a13efb3562"
          }
        },
        "82c712583b5947e38b8380b9fc81c57f": {
          "model_module": "@jupyter-widgets/controls",
          "model_name": "HTMLModel",
          "state": {
            "_view_name": "HTMLView",
            "style": "IPY_MODEL_4242f2944a0742a98859b95fb9a53485",
            "_dom_classes": [],
            "description": "",
            "_model_name": "HTMLModel",
            "placeholder": "​",
            "_view_module": "@jupyter-widgets/controls",
            "_model_module_version": "1.5.0",
            "value": " 2032/2032 [00:12&lt;00:00, 158.94it/s]",
            "_view_count": null,
            "_view_module_version": "1.5.0",
            "description_tooltip": null,
            "_model_module": "@jupyter-widgets/controls",
            "layout": "IPY_MODEL_39d1ace66f514adc884c57f237351bf9"
          }
        },
        "68829f089fa24bf4a7e5f460bf9d771c": {
          "model_module": "@jupyter-widgets/controls",
          "model_name": "ProgressStyleModel",
          "state": {
            "_view_name": "StyleView",
            "_model_name": "ProgressStyleModel",
            "description_width": "initial",
            "_view_module": "@jupyter-widgets/base",
            "_model_module_version": "1.5.0",
            "_view_count": null,
            "_view_module_version": "1.2.0",
            "bar_color": null,
            "_model_module": "@jupyter-widgets/controls"
          }
        },
        "c5f797c37f39455c9ddc87a13efb3562": {
          "model_module": "@jupyter-widgets/base",
          "model_name": "LayoutModel",
          "state": {
            "_view_name": "LayoutView",
            "grid_template_rows": null,
            "right": null,
            "justify_content": null,
            "_view_module": "@jupyter-widgets/base",
            "overflow": null,
            "_model_module_version": "1.2.0",
            "_view_count": null,
            "flex_flow": null,
            "width": null,
            "min_width": null,
            "border": null,
            "align_items": null,
            "bottom": null,
            "_model_module": "@jupyter-widgets/base",
            "top": null,
            "grid_column": null,
            "overflow_y": null,
            "overflow_x": null,
            "grid_auto_flow": null,
            "grid_area": null,
            "grid_template_columns": null,
            "flex": null,
            "_model_name": "LayoutModel",
            "justify_items": null,
            "grid_row": null,
            "max_height": null,
            "align_content": null,
            "visibility": null,
            "align_self": null,
            "height": null,
            "min_height": null,
            "padding": null,
            "grid_auto_rows": null,
            "grid_gap": null,
            "max_width": null,
            "order": null,
            "_view_module_version": "1.2.0",
            "grid_template_areas": null,
            "object_position": null,
            "object_fit": null,
            "grid_auto_columns": null,
            "margin": null,
            "display": null,
            "left": null
          }
        },
        "4242f2944a0742a98859b95fb9a53485": {
          "model_module": "@jupyter-widgets/controls",
          "model_name": "DescriptionStyleModel",
          "state": {
            "_view_name": "StyleView",
            "_model_name": "DescriptionStyleModel",
            "description_width": "",
            "_view_module": "@jupyter-widgets/base",
            "_model_module_version": "1.5.0",
            "_view_count": null,
            "_view_module_version": "1.2.0",
            "_model_module": "@jupyter-widgets/controls"
          }
        },
        "39d1ace66f514adc884c57f237351bf9": {
          "model_module": "@jupyter-widgets/base",
          "model_name": "LayoutModel",
          "state": {
            "_view_name": "LayoutView",
            "grid_template_rows": null,
            "right": null,
            "justify_content": null,
            "_view_module": "@jupyter-widgets/base",
            "overflow": null,
            "_model_module_version": "1.2.0",
            "_view_count": null,
            "flex_flow": null,
            "width": null,
            "min_width": null,
            "border": null,
            "align_items": null,
            "bottom": null,
            "_model_module": "@jupyter-widgets/base",
            "top": null,
            "grid_column": null,
            "overflow_y": null,
            "overflow_x": null,
            "grid_auto_flow": null,
            "grid_area": null,
            "grid_template_columns": null,
            "flex": null,
            "_model_name": "LayoutModel",
            "justify_items": null,
            "grid_row": null,
            "max_height": null,
            "align_content": null,
            "visibility": null,
            "align_self": null,
            "height": null,
            "min_height": null,
            "padding": null,
            "grid_auto_rows": null,
            "grid_gap": null,
            "max_width": null,
            "order": null,
            "_view_module_version": "1.2.0",
            "grid_template_areas": null,
            "object_position": null,
            "object_fit": null,
            "grid_auto_columns": null,
            "margin": null,
            "display": null,
            "left": null
          }
        }
      }
    }
  },
  "cells": [
    {
      "cell_type": "markdown",
      "metadata": {
        "id": "cyB4hgouc-5p"
      },
      "source": [
        "# Student Information"
      ]
    },
    {
      "cell_type": "markdown",
      "metadata": {
        "id": "oyPVnX0-dEGi"
      },
      "source": [
        "Wangyang He\n"
      ]
    },
    {
      "cell_type": "markdown",
      "metadata": {
        "id": "HqGgKS4EdLaS"
      },
      "source": [
        "UIN 625004872\n"
      ]
    },
    {
      "cell_type": "markdown",
      "metadata": {
        "id": "UWrVJV2EdNEn"
      },
      "source": [
        "Nickname: heswaggy"
      ]
    },
    {
      "cell_type": "markdown",
      "metadata": {
        "id": "rA4IivWQgpb8"
      },
      "source": [
        "Project submission 5"
      ]
    },
    {
      "cell_type": "code",
      "metadata": {
        "id": "b3Vkrrt0ODY5"
      },
      "source": [
        "import os\n",
        "import numpy as np\n",
        "import cv2\n",
        "import json\n",
        "import keras\n",
        "from keras.models import load_model\n",
        "from tqdm.notebook import tqdm"
      ],
      "execution_count": 1,
      "outputs": []
    },
    {
      "cell_type": "code",
      "metadata": {
        "colab": {
          "base_uri": "https://localhost:8080/"
        },
        "id": "DKwSqd0OOTmr",
        "outputId": "c810e110-dd25-4545-a386-55601ed5a925"
      },
      "source": [
        "!pip install --upgrade youtube_dl"
      ],
      "execution_count": 2,
      "outputs": [
        {
          "output_type": "stream",
          "text": [
            "Collecting youtube_dl\n",
            "\u001b[?25l  Downloading https://files.pythonhosted.org/packages/8d/01/0cddb3c14dec91d627a0c9df61e072812e3e3b8cee48a95e6566fd403a79/youtube_dl-2021.3.14-py2.py3-none-any.whl (1.9MB)\n",
            "\r\u001b[K     |▏                               | 10kB 23.6MB/s eta 0:00:01\r\u001b[K     |▍                               | 20kB 29.0MB/s eta 0:00:01\r\u001b[K     |▌                               | 30kB 24.6MB/s eta 0:00:01\r\u001b[K     |▊                               | 40kB 18.7MB/s eta 0:00:01\r\u001b[K     |▉                               | 51kB 15.6MB/s eta 0:00:01\r\u001b[K     |█                               | 61kB 14.5MB/s eta 0:00:01\r\u001b[K     |█▏                              | 71kB 14.3MB/s eta 0:00:01\r\u001b[K     |█▍                              | 81kB 14.2MB/s eta 0:00:01\r\u001b[K     |█▋                              | 92kB 13.8MB/s eta 0:00:01\r\u001b[K     |█▊                              | 102kB 13.9MB/s eta 0:00:01\r\u001b[K     |██                              | 112kB 13.9MB/s eta 0:00:01\r\u001b[K     |██                              | 122kB 13.9MB/s eta 0:00:01\r\u001b[K     |██▎                             | 133kB 13.9MB/s eta 0:00:01\r\u001b[K     |██▍                             | 143kB 13.9MB/s eta 0:00:01\r\u001b[K     |██▋                             | 153kB 13.9MB/s eta 0:00:01\r\u001b[K     |██▊                             | 163kB 13.9MB/s eta 0:00:01\r\u001b[K     |███                             | 174kB 13.9MB/s eta 0:00:01\r\u001b[K     |███▏                            | 184kB 13.9MB/s eta 0:00:01\r\u001b[K     |███▎                            | 194kB 13.9MB/s eta 0:00:01\r\u001b[K     |███▌                            | 204kB 13.9MB/s eta 0:00:01\r\u001b[K     |███▋                            | 215kB 13.9MB/s eta 0:00:01\r\u001b[K     |███▉                            | 225kB 13.9MB/s eta 0:00:01\r\u001b[K     |████                            | 235kB 13.9MB/s eta 0:00:01\r\u001b[K     |████▏                           | 245kB 13.9MB/s eta 0:00:01\r\u001b[K     |████▍                           | 256kB 13.9MB/s eta 0:00:01\r\u001b[K     |████▌                           | 266kB 13.9MB/s eta 0:00:01\r\u001b[K     |████▊                           | 276kB 13.9MB/s eta 0:00:01\r\u001b[K     |████▉                           | 286kB 13.9MB/s eta 0:00:01\r\u001b[K     |█████                           | 296kB 13.9MB/s eta 0:00:01\r\u001b[K     |█████▏                          | 307kB 13.9MB/s eta 0:00:01\r\u001b[K     |█████▍                          | 317kB 13.9MB/s eta 0:00:01\r\u001b[K     |█████▌                          | 327kB 13.9MB/s eta 0:00:01\r\u001b[K     |█████▊                          | 337kB 13.9MB/s eta 0:00:01\r\u001b[K     |██████                          | 348kB 13.9MB/s eta 0:00:01\r\u001b[K     |██████                          | 358kB 13.9MB/s eta 0:00:01\r\u001b[K     |██████▎                         | 368kB 13.9MB/s eta 0:00:01\r\u001b[K     |██████▍                         | 378kB 13.9MB/s eta 0:00:01\r\u001b[K     |██████▋                         | 389kB 13.9MB/s eta 0:00:01\r\u001b[K     |██████▊                         | 399kB 13.9MB/s eta 0:00:01\r\u001b[K     |███████                         | 409kB 13.9MB/s eta 0:00:01\r\u001b[K     |███████▏                        | 419kB 13.9MB/s eta 0:00:01\r\u001b[K     |███████▎                        | 430kB 13.9MB/s eta 0:00:01\r\u001b[K     |███████▌                        | 440kB 13.9MB/s eta 0:00:01\r\u001b[K     |███████▋                        | 450kB 13.9MB/s eta 0:00:01\r\u001b[K     |███████▉                        | 460kB 13.9MB/s eta 0:00:01\r\u001b[K     |████████                        | 471kB 13.9MB/s eta 0:00:01\r\u001b[K     |████████▏                       | 481kB 13.9MB/s eta 0:00:01\r\u001b[K     |████████▎                       | 491kB 13.9MB/s eta 0:00:01\r\u001b[K     |████████▌                       | 501kB 13.9MB/s eta 0:00:01\r\u001b[K     |████████▊                       | 512kB 13.9MB/s eta 0:00:01\r\u001b[K     |████████▉                       | 522kB 13.9MB/s eta 0:00:01\r\u001b[K     |█████████                       | 532kB 13.9MB/s eta 0:00:01\r\u001b[K     |█████████▏                      | 542kB 13.9MB/s eta 0:00:01\r\u001b[K     |█████████▍                      | 552kB 13.9MB/s eta 0:00:01\r\u001b[K     |█████████▌                      | 563kB 13.9MB/s eta 0:00:01\r\u001b[K     |█████████▊                      | 573kB 13.9MB/s eta 0:00:01\r\u001b[K     |█████████▉                      | 583kB 13.9MB/s eta 0:00:01\r\u001b[K     |██████████                      | 593kB 13.9MB/s eta 0:00:01\r\u001b[K     |██████████▎                     | 604kB 13.9MB/s eta 0:00:01\r\u001b[K     |██████████▍                     | 614kB 13.9MB/s eta 0:00:01\r\u001b[K     |██████████▋                     | 624kB 13.9MB/s eta 0:00:01\r\u001b[K     |██████████▊                     | 634kB 13.9MB/s eta 0:00:01\r\u001b[K     |███████████                     | 645kB 13.9MB/s eta 0:00:01\r\u001b[K     |███████████                     | 655kB 13.9MB/s eta 0:00:01\r\u001b[K     |███████████▎                    | 665kB 13.9MB/s eta 0:00:01\r\u001b[K     |███████████▌                    | 675kB 13.9MB/s eta 0:00:01\r\u001b[K     |███████████▋                    | 686kB 13.9MB/s eta 0:00:01\r\u001b[K     |███████████▉                    | 696kB 13.9MB/s eta 0:00:01\r\u001b[K     |████████████                    | 706kB 13.9MB/s eta 0:00:01\r\u001b[K     |████████████▏                   | 716kB 13.9MB/s eta 0:00:01\r\u001b[K     |████████████▎                   | 727kB 13.9MB/s eta 0:00:01\r\u001b[K     |████████████▌                   | 737kB 13.9MB/s eta 0:00:01\r\u001b[K     |████████████▋                   | 747kB 13.9MB/s eta 0:00:01\r\u001b[K     |████████████▉                   | 757kB 13.9MB/s eta 0:00:01\r\u001b[K     |█████████████                   | 768kB 13.9MB/s eta 0:00:01\r\u001b[K     |█████████████▏                  | 778kB 13.9MB/s eta 0:00:01\r\u001b[K     |█████████████▍                  | 788kB 13.9MB/s eta 0:00:01\r\u001b[K     |█████████████▌                  | 798kB 13.9MB/s eta 0:00:01\r\u001b[K     |█████████████▊                  | 808kB 13.9MB/s eta 0:00:01\r\u001b[K     |█████████████▉                  | 819kB 13.9MB/s eta 0:00:01\r\u001b[K     |██████████████                  | 829kB 13.9MB/s eta 0:00:01\r\u001b[K     |██████████████▎                 | 839kB 13.9MB/s eta 0:00:01\r\u001b[K     |██████████████▍                 | 849kB 13.9MB/s eta 0:00:01\r\u001b[K     |██████████████▋                 | 860kB 13.9MB/s eta 0:00:01\r\u001b[K     |██████████████▊                 | 870kB 13.9MB/s eta 0:00:01\r\u001b[K     |███████████████                 | 880kB 13.9MB/s eta 0:00:01\r\u001b[K     |███████████████                 | 890kB 13.9MB/s eta 0:00:01\r\u001b[K     |███████████████▎                | 901kB 13.9MB/s eta 0:00:01\r\u001b[K     |███████████████▍                | 911kB 13.9MB/s eta 0:00:01\r\u001b[K     |███████████████▋                | 921kB 13.9MB/s eta 0:00:01\r\u001b[K     |███████████████▉                | 931kB 13.9MB/s eta 0:00:01\r\u001b[K     |████████████████                | 942kB 13.9MB/s eta 0:00:01\r\u001b[K     |████████████████▏               | 952kB 13.9MB/s eta 0:00:01\r\u001b[K     |████████████████▎               | 962kB 13.9MB/s eta 0:00:01\r\u001b[K     |████████████████▌               | 972kB 13.9MB/s eta 0:00:01\r\u001b[K     |████████████████▋               | 983kB 13.9MB/s eta 0:00:01\r\u001b[K     |████████████████▉               | 993kB 13.9MB/s eta 0:00:01\r\u001b[K     |█████████████████               | 1.0MB 13.9MB/s eta 0:00:01\r\u001b[K     |█████████████████▏              | 1.0MB 13.9MB/s eta 0:00:01\r\u001b[K     |█████████████████▍              | 1.0MB 13.9MB/s eta 0:00:01\r\u001b[K     |█████████████████▌              | 1.0MB 13.9MB/s eta 0:00:01\r\u001b[K     |█████████████████▊              | 1.0MB 13.9MB/s eta 0:00:01\r\u001b[K     |█████████████████▉              | 1.1MB 13.9MB/s eta 0:00:01\r\u001b[K     |██████████████████              | 1.1MB 13.9MB/s eta 0:00:01\r\u001b[K     |██████████████████▏             | 1.1MB 13.9MB/s eta 0:00:01\r\u001b[K     |██████████████████▍             | 1.1MB 13.9MB/s eta 0:00:01\r\u001b[K     |██████████████████▋             | 1.1MB 13.9MB/s eta 0:00:01\r\u001b[K     |██████████████████▊             | 1.1MB 13.9MB/s eta 0:00:01\r\u001b[K     |███████████████████             | 1.1MB 13.9MB/s eta 0:00:01\r\u001b[K     |███████████████████             | 1.1MB 13.9MB/s eta 0:00:01\r\u001b[K     |███████████████████▎            | 1.1MB 13.9MB/s eta 0:00:01\r\u001b[K     |███████████████████▍            | 1.1MB 13.9MB/s eta 0:00:01\r\u001b[K     |███████████████████▋            | 1.2MB 13.9MB/s eta 0:00:01\r\u001b[K     |███████████████████▊            | 1.2MB 13.9MB/s eta 0:00:01\r\u001b[K     |████████████████████            | 1.2MB 13.9MB/s eta 0:00:01\r\u001b[K     |████████████████████▏           | 1.2MB 13.9MB/s eta 0:00:01\r\u001b[K     |████████████████████▎           | 1.2MB 13.9MB/s eta 0:00:01\r\u001b[K     |████████████████████▌           | 1.2MB 13.9MB/s eta 0:00:01\r\u001b[K     |████████████████████▋           | 1.2MB 13.9MB/s eta 0:00:01\r\u001b[K     |████████████████████▉           | 1.2MB 13.9MB/s eta 0:00:01\r\u001b[K     |█████████████████████           | 1.2MB 13.9MB/s eta 0:00:01\r\u001b[K     |█████████████████████▏          | 1.2MB 13.9MB/s eta 0:00:01\r\u001b[K     |█████████████████████▍          | 1.3MB 13.9MB/s eta 0:00:01\r\u001b[K     |█████████████████████▌          | 1.3MB 13.9MB/s eta 0:00:01\r\u001b[K     |█████████████████████▊          | 1.3MB 13.9MB/s eta 0:00:01\r\u001b[K     |█████████████████████▉          | 1.3MB 13.9MB/s eta 0:00:01\r\u001b[K     |██████████████████████          | 1.3MB 13.9MB/s eta 0:00:01\r\u001b[K     |██████████████████████▏         | 1.3MB 13.9MB/s eta 0:00:01\r\u001b[K     |██████████████████████▍         | 1.3MB 13.9MB/s eta 0:00:01\r\u001b[K     |██████████████████████▌         | 1.3MB 13.9MB/s eta 0:00:01\r\u001b[K     |██████████████████████▊         | 1.3MB 13.9MB/s eta 0:00:01\r\u001b[K     |███████████████████████         | 1.4MB 13.9MB/s eta 0:00:01\r\u001b[K     |███████████████████████         | 1.4MB 13.9MB/s eta 0:00:01\r\u001b[K     |███████████████████████▎        | 1.4MB 13.9MB/s eta 0:00:01\r\u001b[K     |███████████████████████▍        | 1.4MB 13.9MB/s eta 0:00:01\r\u001b[K     |███████████████████████▋        | 1.4MB 13.9MB/s eta 0:00:01\r\u001b[K     |███████████████████████▊        | 1.4MB 13.9MB/s eta 0:00:01\r\u001b[K     |████████████████████████        | 1.4MB 13.9MB/s eta 0:00:01\r\u001b[K     |████████████████████████▏       | 1.4MB 13.9MB/s eta 0:00:01\r\u001b[K     |████████████████████████▎       | 1.4MB 13.9MB/s eta 0:00:01\r\u001b[K     |████████████████████████▌       | 1.4MB 13.9MB/s eta 0:00:01\r\u001b[K     |████████████████████████▋       | 1.5MB 13.9MB/s eta 0:00:01\r\u001b[K     |████████████████████████▉       | 1.5MB 13.9MB/s eta 0:00:01\r\u001b[K     |█████████████████████████       | 1.5MB 13.9MB/s eta 0:00:01\r\u001b[K     |█████████████████████████▏      | 1.5MB 13.9MB/s eta 0:00:01\r\u001b[K     |█████████████████████████▎      | 1.5MB 13.9MB/s eta 0:00:01\r\u001b[K     |█████████████████████████▌      | 1.5MB 13.9MB/s eta 0:00:01\r\u001b[K     |█████████████████████████▊      | 1.5MB 13.9MB/s eta 0:00:01\r\u001b[K     |█████████████████████████▉      | 1.5MB 13.9MB/s eta 0:00:01\r\u001b[K     |██████████████████████████      | 1.5MB 13.9MB/s eta 0:00:01\r\u001b[K     |██████████████████████████▏     | 1.5MB 13.9MB/s eta 0:00:01\r\u001b[K     |██████████████████████████▍     | 1.6MB 13.9MB/s eta 0:00:01\r\u001b[K     |██████████████████████████▌     | 1.6MB 13.9MB/s eta 0:00:01\r\u001b[K     |██████████████████████████▊     | 1.6MB 13.9MB/s eta 0:00:01\r\u001b[K     |███████████████████████████     | 1.6MB 13.9MB/s eta 0:00:01\r\u001b[K     |███████████████████████████     | 1.6MB 13.9MB/s eta 0:00:01\r\u001b[K     |███████████████████████████▎    | 1.6MB 13.9MB/s eta 0:00:01\r\u001b[K     |███████████████████████████▍    | 1.6MB 13.9MB/s eta 0:00:01\r\u001b[K     |███████████████████████████▋    | 1.6MB 13.9MB/s eta 0:00:01\r\u001b[K     |███████████████████████████▊    | 1.6MB 13.9MB/s eta 0:00:01\r\u001b[K     |████████████████████████████    | 1.6MB 13.9MB/s eta 0:00:01\r\u001b[K     |████████████████████████████    | 1.7MB 13.9MB/s eta 0:00:01\r\u001b[K     |████████████████████████████▎   | 1.7MB 13.9MB/s eta 0:00:01\r\u001b[K     |████████████████████████████▌   | 1.7MB 13.9MB/s eta 0:00:01\r\u001b[K     |████████████████████████████▋   | 1.7MB 13.9MB/s eta 0:00:01\r\u001b[K     |████████████████████████████▉   | 1.7MB 13.9MB/s eta 0:00:01\r\u001b[K     |█████████████████████████████   | 1.7MB 13.9MB/s eta 0:00:01\r\u001b[K     |█████████████████████████████▏  | 1.7MB 13.9MB/s eta 0:00:01\r\u001b[K     |█████████████████████████████▎  | 1.7MB 13.9MB/s eta 0:00:01\r\u001b[K     |█████████████████████████████▌  | 1.7MB 13.9MB/s eta 0:00:01\r\u001b[K     |█████████████████████████████▋  | 1.8MB 13.9MB/s eta 0:00:01\r\u001b[K     |█████████████████████████████▉  | 1.8MB 13.9MB/s eta 0:00:01\r\u001b[K     |██████████████████████████████  | 1.8MB 13.9MB/s eta 0:00:01\r\u001b[K     |██████████████████████████████▏ | 1.8MB 13.9MB/s eta 0:00:01\r\u001b[K     |██████████████████████████████▍ | 1.8MB 13.9MB/s eta 0:00:01\r\u001b[K     |██████████████████████████████▌ | 1.8MB 13.9MB/s eta 0:00:01\r\u001b[K     |██████████████████████████████▊ | 1.8MB 13.9MB/s eta 0:00:01\r\u001b[K     |██████████████████████████████▉ | 1.8MB 13.9MB/s eta 0:00:01\r\u001b[K     |███████████████████████████████ | 1.8MB 13.9MB/s eta 0:00:01\r\u001b[K     |███████████████████████████████▎| 1.8MB 13.9MB/s eta 0:00:01\r\u001b[K     |███████████████████████████████▍| 1.9MB 13.9MB/s eta 0:00:01\r\u001b[K     |███████████████████████████████▋| 1.9MB 13.9MB/s eta 0:00:01\r\u001b[K     |███████████████████████████████▊| 1.9MB 13.9MB/s eta 0:00:01\r\u001b[K     |████████████████████████████████| 1.9MB 13.9MB/s eta 0:00:01\r\u001b[K     |████████████████████████████████| 1.9MB 13.9MB/s \n",
            "\u001b[?25hInstalling collected packages: youtube-dl\n",
            "Successfully installed youtube-dl-2021.3.14\n"
          ],
          "name": "stdout"
        }
      ]
    },
    {
      "cell_type": "code",
      "metadata": {
        "id": "hJJyYN2nOd9h"
      },
      "source": [
        "test_videos = '/content/applyvideos'\n",
        "os.mkdir(test_videos)"
      ],
      "execution_count": 3,
      "outputs": []
    },
    {
      "cell_type": "code",
      "metadata": {
        "colab": {
          "base_uri": "https://localhost:8080/"
        },
        "id": "HUAgPFW1PSdb",
        "outputId": "afb4d38c-9557-4c51-e890-315f3a4effeb"
      },
      "source": [
        "import datetime\n",
        "import youtube_dl, subprocess\n",
        "\n",
        "#these are the videos link to test, uncomment to download them\n",
        "urls = ['https://www.youtube.com/watch?v=3PmVJQUCm4E'\n",
        "         ]\n",
        "\n",
        "for i, id in enumerate(urls):\n",
        "  #save videos to the folder we created above\n",
        "  true = os.path.join(test_videos,\"video.0.mp4\".format(i))\n",
        "  #download videos\n",
        "  with youtube_dl.YoutubeDL({'format': 'best'}) as ydl:\n",
        "    try:\n",
        "      info = ydl.extract_info(id, download=False)\n",
        "      video = info['entries'][0] if 'entries' in info else info\n",
        "    except:\n",
        "      continue\n",
        "  #parameters\n",
        "  url = video['url']\n",
        "  starttime = datetime.timedelta(seconds=4)\n",
        "  clip_length = datetime.timedelta(seconds=9999)\n",
        "  subprocess.call(['ffmpeg', '-i', url, '-ss', str(starttime), '-t', str(clip_length), \n",
        "                   '-c:v', 'copy', '-c:a', 'copy', true,]) \n",
        "  print(\"finished downloading\")"
      ],
      "execution_count": 13,
      "outputs": [
        {
          "output_type": "stream",
          "text": [
            "[youtube] 3PmVJQUCm4E: Downloading webpage\n",
            "finished downloading\n"
          ],
          "name": "stdout"
        }
      ]
    },
    {
      "cell_type": "code",
      "metadata": {
        "colab": {
          "base_uri": "https://localhost:8080/"
        },
        "id": "yCL8GawEd_sP",
        "outputId": "1de573ef-03c4-41ed-9265-7d06d09271bb"
      },
      "source": [
        "from google.colab import drive\n",
        "drive.mount(\"/content/drive\")"
      ],
      "execution_count": 6,
      "outputs": [
        {
          "output_type": "stream",
          "text": [
            "Mounted at /content/drive\n"
          ],
          "name": "stdout"
        }
      ]
    },
    {
      "cell_type": "code",
      "metadata": {
        "colab": {
          "base_uri": "https://localhost:8080/"
        },
        "id": "cEg80LsiSbms",
        "outputId": "9d746934-e0f9-406c-dd86-a718761afa45"
      },
      "source": [
        "model = load_model('/content/drive/MyDrive/Colab Notebooks/Submission 5/washinghands_Xcep_sub5.h5') #this .h5 model file is also avaliable on my github.tamu repo\n",
        "#loading trained model\n",
        "print(\"model loaded\")"
      ],
      "execution_count": 14,
      "outputs": [
        {
          "output_type": "stream",
          "text": [
            "model loaded\n"
          ],
          "name": "stdout"
        }
      ]
    },
    {
      "cell_type": "code",
      "metadata": {
        "colab": {
          "base_uri": "https://localhost:8080/"
        },
        "id": "Ysja2211StbC",
        "outputId": "64ad1572-5e5c-4878-a0c5-eb88163a78cd"
      },
      "source": [
        "def check_model(img, video, model): #this function will check the video with our model, and predict accruacy to produce JSON\n",
        "    #get the video itself\n",
        "    capture = cv2.VideoCapture(img)\n",
        "    # get the video frame per second\n",
        "    fps = capture.get(5) \n",
        "    # get all frames in the video\n",
        "    video_frame = int(capture.get(7)) \n",
        "    # get video length in seconds\n",
        "    length = int(video_frame/fps) \n",
        "    # get the number of predictions our model will make on the test video\n",
        "    num_pred = int(length/2) \n",
        "    # frame per prediction\n",
        "    fpp = video_frame // num_pred\n",
        "    # length per frame\n",
        "    dis = fpp // 15\n",
        "    #count the frames for each 2 second clip\n",
        "    count = 0\n",
        "    pred_count = 1\n",
        "    #some parameters to use in the for loop\n",
        "    pred_time = []\n",
        "    final_frame = []\n",
        "    clips = []\n",
        "    tmp = []\n",
        "\n",
        "    for i in tqdm(range(video_frame)): #iterating over all the frames of the video\n",
        "            #using openCV\n",
        "            ret, frame = capture.read()\n",
        "            count = count + 1\n",
        "\n",
        "            if count == dis:\n",
        "                count = count * 0\n",
        "                frame=cv2.resize(frame,(150,150),interpolation=cv2.INTER_AREA)\n",
        "                tmp.append(frame)\n",
        "                final_frame.append(frame)\n",
        "                \n",
        "            if i == ((pred_count * fpp) - 1):\n",
        "                inpt = np.array(tmp)\n",
        "                inpt = inpt.astype('float32')\n",
        "                inpt -= np.mean(inpt)\n",
        "                inpt /= np.max(inpt)\n",
        "                tmp = []\n",
        "                data = np.expand_dims(inpt, axis=0)\n",
        "                pred = model.predict(data, batch_size = 1) # verbose = 1\n",
        "                rate = pred[0][1] #prediction score stored\n",
        "                time_init = (pred_count - 1) / 0.5 #start time\n",
        "                time_end = pred_count / 0.5  # end time\n",
        "                #produce JSON file\n",
        "                if rate > 0.8: #if prediction score better than 80%, add in the JSON file\n",
        "                    time_result = ['Target: ' +  str(time_init) + 'secs - ' + str(time_end) + 'secs.']\n",
        "                    json_format = {\n",
        "                        'videoId': \"3PmVJQUCm4E\",\n",
        "                        'type': \"segment\",\n",
        "                        'startTime': np.float(time_init),\n",
        "                        'endTime': np.float(time_end),\n",
        "                        'observer': 'CSCE636Spring2021-heswaggy-5',\n",
        "                        'isHuman': False,\n",
        "                        'confirmedBySomeone': False,\n",
        "                        'rejectedBySomeone': False,\n",
        "                        'observation': {\n",
        "                            'label': 'Hand washing',\n",
        "                            'labelConfidence': np.float(rate)\n",
        "                        }\n",
        "                    }\n",
        "                    clips.append(json_format)\n",
        "                else:\n",
        "                    time_result = ['Others: ' +  str(time_init) + 'secs - ' + str(time_end) + 'secs.']\n",
        "                pred_count += 1\n",
        "                pred_time.append(time_result)\n",
        "\n",
        "            if cv2.waitKey(1) & 0xFF == ord('q'):\n",
        "                break\n",
        "\n",
        "    capture.release()\n",
        "    cv2.destroyAllWindows()\n",
        "\n",
        "    with open(video, 'w', encoding='utf-8') as f:\n",
        "        json.dump(clips, f, indent=4)\n",
        "    return final_frame\n",
        "\n",
        "print(\"finished\")"
      ],
      "execution_count": 15,
      "outputs": [
        {
          "output_type": "stream",
          "text": [
            "finished\n"
          ],
          "name": "stdout"
        }
      ]
    },
    {
      "cell_type": "code",
      "metadata": {
        "id": "5J7aGpv_xqUH"
      },
      "source": [
        "!mkdir ResultOfDetection"
      ],
      "execution_count": 18,
      "outputs": []
    },
    {
      "cell_type": "code",
      "metadata": {
        "colab": {
          "base_uri": "https://localhost:8080/",
          "height": 66,
          "referenced_widgets": [
            "41891d9acfa24e48887eb2d7f22c1ecf",
            "91d7acf334264c00a4d527d838f8711a",
            "b4a5a91aeeee4ed18f34710c63484980",
            "82c712583b5947e38b8380b9fc81c57f",
            "68829f089fa24bf4a7e5f460bf9d771c",
            "c5f797c37f39455c9ddc87a13efb3562",
            "4242f2944a0742a98859b95fb9a53485",
            "39d1ace66f514adc884c57f237351bf9"
          ]
        },
        "id": "5TkbNVmIUl-c",
        "outputId": "45757ece-93b2-423e-cc75-74a99b607eba"
      },
      "source": [
        "final_frame = check_model('/content/applyvideos/video.0.mp4', '/content/ResultOfDetection/ResultOfDetection.0.json', model)"
      ],
      "execution_count": 19,
      "outputs": [
        {
          "output_type": "display_data",
          "data": {
            "application/vnd.jupyter.widget-view+json": {
              "model_id": "41891d9acfa24e48887eb2d7f22c1ecf",
              "version_minor": 0,
              "version_major": 2
            },
            "text/plain": [
              "HBox(children=(FloatProgress(value=0.0, max=2032.0), HTML(value='')))"
            ]
          },
          "metadata": {
            "tags": []
          }
        },
        {
          "output_type": "stream",
          "text": [
            "\n"
          ],
          "name": "stdout"
        }
      ]
    },
    {
      "cell_type": "code",
      "metadata": {
        "id": "tdeLzEh9BoNC"
      },
      "source": [
        "!cp -a '/content/ResultOfDetection/' '/content/drive/MyDrive/Colab Notebooks/Submission 5'"
      ],
      "execution_count": null,
      "outputs": []
    }
  ]
}