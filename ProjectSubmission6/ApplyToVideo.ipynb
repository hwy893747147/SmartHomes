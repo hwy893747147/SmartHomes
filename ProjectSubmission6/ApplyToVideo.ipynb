{
  "nbformat": 4,
  "nbformat_minor": 0,
  "metadata": {
    "colab": {
      "name": "Sub6ApplyVideo.ipynb",
      "provenance": [],
      "collapsed_sections": [],
      "toc_visible": true
    },
    "kernelspec": {
      "name": "python3",
      "display_name": "Python 3"
    },
    "accelerator": "GPU",
    "widgets": {
      "application/vnd.jupyter.widget-state+json": {
        "3aeb87bb1c67449797b63d15297d0c1b": {
          "model_module": "@jupyter-widgets/controls",
          "model_name": "HBoxModel",
          "state": {
            "_view_name": "HBoxView",
            "_dom_classes": [],
            "_model_name": "HBoxModel",
            "_view_module": "@jupyter-widgets/controls",
            "_model_module_version": "1.5.0",
            "_view_count": null,
            "_view_module_version": "1.5.0",
            "box_style": "",
            "layout": "IPY_MODEL_ea7321d51a5e480592982a14792be378",
            "_model_module": "@jupyter-widgets/controls",
            "children": [
              "IPY_MODEL_fdba2bc17ba6464d81ec88d41df22f46",
              "IPY_MODEL_02e82db3ca834f5d8faf0a6141fad2d6"
            ]
          }
        },
        "ea7321d51a5e480592982a14792be378": {
          "model_module": "@jupyter-widgets/base",
          "model_name": "LayoutModel",
          "state": {
            "_view_name": "LayoutView",
            "grid_template_rows": null,
            "right": null,
            "justify_content": null,
            "_view_module": "@jupyter-widgets/base",
            "overflow": null,
            "_model_module_version": "1.2.0",
            "_view_count": null,
            "flex_flow": null,
            "width": null,
            "min_width": null,
            "border": null,
            "align_items": null,
            "bottom": null,
            "_model_module": "@jupyter-widgets/base",
            "top": null,
            "grid_column": null,
            "overflow_y": null,
            "overflow_x": null,
            "grid_auto_flow": null,
            "grid_area": null,
            "grid_template_columns": null,
            "flex": null,
            "_model_name": "LayoutModel",
            "justify_items": null,
            "grid_row": null,
            "max_height": null,
            "align_content": null,
            "visibility": null,
            "align_self": null,
            "height": null,
            "min_height": null,
            "padding": null,
            "grid_auto_rows": null,
            "grid_gap": null,
            "max_width": null,
            "order": null,
            "_view_module_version": "1.2.0",
            "grid_template_areas": null,
            "object_position": null,
            "object_fit": null,
            "grid_auto_columns": null,
            "margin": null,
            "display": null,
            "left": null
          }
        },
        "fdba2bc17ba6464d81ec88d41df22f46": {
          "model_module": "@jupyter-widgets/controls",
          "model_name": "FloatProgressModel",
          "state": {
            "_view_name": "ProgressView",
            "style": "IPY_MODEL_c33b49c1ae38449487cb722db2d4d7c7",
            "_dom_classes": [],
            "description": "100%",
            "_model_name": "FloatProgressModel",
            "bar_style": "success",
            "max": 44483,
            "_view_module": "@jupyter-widgets/controls",
            "_model_module_version": "1.5.0",
            "value": 44483,
            "_view_count": null,
            "_view_module_version": "1.5.0",
            "orientation": "horizontal",
            "min": 0,
            "description_tooltip": null,
            "_model_module": "@jupyter-widgets/controls",
            "layout": "IPY_MODEL_a405c6e0cb5343378ef79869d4ae9dcd"
          }
        },
        "02e82db3ca834f5d8faf0a6141fad2d6": {
          "model_module": "@jupyter-widgets/controls",
          "model_name": "HTMLModel",
          "state": {
            "_view_name": "HTMLView",
            "style": "IPY_MODEL_9dbd411979a3453da31407159dd796b5",
            "_dom_classes": [],
            "description": "",
            "_model_name": "HTMLModel",
            "placeholder": "​",
            "_view_module": "@jupyter-widgets/controls",
            "_model_module_version": "1.5.0",
            "value": " 44483/44483 [04:23&lt;00:00, 168.75it/s]",
            "_view_count": null,
            "_view_module_version": "1.5.0",
            "description_tooltip": null,
            "_model_module": "@jupyter-widgets/controls",
            "layout": "IPY_MODEL_2cf1135daaeb43088c446af9f437fc28"
          }
        },
        "c33b49c1ae38449487cb722db2d4d7c7": {
          "model_module": "@jupyter-widgets/controls",
          "model_name": "ProgressStyleModel",
          "state": {
            "_view_name": "StyleView",
            "_model_name": "ProgressStyleModel",
            "description_width": "initial",
            "_view_module": "@jupyter-widgets/base",
            "_model_module_version": "1.5.0",
            "_view_count": null,
            "_view_module_version": "1.2.0",
            "bar_color": null,
            "_model_module": "@jupyter-widgets/controls"
          }
        },
        "a405c6e0cb5343378ef79869d4ae9dcd": {
          "model_module": "@jupyter-widgets/base",
          "model_name": "LayoutModel",
          "state": {
            "_view_name": "LayoutView",
            "grid_template_rows": null,
            "right": null,
            "justify_content": null,
            "_view_module": "@jupyter-widgets/base",
            "overflow": null,
            "_model_module_version": "1.2.0",
            "_view_count": null,
            "flex_flow": null,
            "width": null,
            "min_width": null,
            "border": null,
            "align_items": null,
            "bottom": null,
            "_model_module": "@jupyter-widgets/base",
            "top": null,
            "grid_column": null,
            "overflow_y": null,
            "overflow_x": null,
            "grid_auto_flow": null,
            "grid_area": null,
            "grid_template_columns": null,
            "flex": null,
            "_model_name": "LayoutModel",
            "justify_items": null,
            "grid_row": null,
            "max_height": null,
            "align_content": null,
            "visibility": null,
            "align_self": null,
            "height": null,
            "min_height": null,
            "padding": null,
            "grid_auto_rows": null,
            "grid_gap": null,
            "max_width": null,
            "order": null,
            "_view_module_version": "1.2.0",
            "grid_template_areas": null,
            "object_position": null,
            "object_fit": null,
            "grid_auto_columns": null,
            "margin": null,
            "display": null,
            "left": null
          }
        },
        "9dbd411979a3453da31407159dd796b5": {
          "model_module": "@jupyter-widgets/controls",
          "model_name": "DescriptionStyleModel",
          "state": {
            "_view_name": "StyleView",
            "_model_name": "DescriptionStyleModel",
            "description_width": "",
            "_view_module": "@jupyter-widgets/base",
            "_model_module_version": "1.5.0",
            "_view_count": null,
            "_view_module_version": "1.2.0",
            "_model_module": "@jupyter-widgets/controls"
          }
        },
        "2cf1135daaeb43088c446af9f437fc28": {
          "model_module": "@jupyter-widgets/base",
          "model_name": "LayoutModel",
          "state": {
            "_view_name": "LayoutView",
            "grid_template_rows": null,
            "right": null,
            "justify_content": null,
            "_view_module": "@jupyter-widgets/base",
            "overflow": null,
            "_model_module_version": "1.2.0",
            "_view_count": null,
            "flex_flow": null,
            "width": null,
            "min_width": null,
            "border": null,
            "align_items": null,
            "bottom": null,
            "_model_module": "@jupyter-widgets/base",
            "top": null,
            "grid_column": null,
            "overflow_y": null,
            "overflow_x": null,
            "grid_auto_flow": null,
            "grid_area": null,
            "grid_template_columns": null,
            "flex": null,
            "_model_name": "LayoutModel",
            "justify_items": null,
            "grid_row": null,
            "max_height": null,
            "align_content": null,
            "visibility": null,
            "align_self": null,
            "height": null,
            "min_height": null,
            "padding": null,
            "grid_auto_rows": null,
            "grid_gap": null,
            "max_width": null,
            "order": null,
            "_view_module_version": "1.2.0",
            "grid_template_areas": null,
            "object_position": null,
            "object_fit": null,
            "grid_auto_columns": null,
            "margin": null,
            "display": null,
            "left": null
          }
        }
      }
    }
  },
  "cells": [
    {
      "cell_type": "markdown",
      "metadata": {
        "id": "cyB4hgouc-5p"
      },
      "source": [
        "# Student Information"
      ]
    },
    {
      "cell_type": "markdown",
      "metadata": {
        "id": "oyPVnX0-dEGi"
      },
      "source": [
        "Wangyang He\n"
      ]
    },
    {
      "cell_type": "markdown",
      "metadata": {
        "id": "HqGgKS4EdLaS"
      },
      "source": [
        "UIN 625004872\n"
      ]
    },
    {
      "cell_type": "markdown",
      "metadata": {
        "id": "UWrVJV2EdNEn"
      },
      "source": [
        "Nickname: heswaggy"
      ]
    },
    {
      "cell_type": "markdown",
      "metadata": {
        "id": "rA4IivWQgpb8"
      },
      "source": [
        "Project submission 6"
      ]
    },
    {
      "cell_type": "code",
      "metadata": {
        "id": "b3Vkrrt0ODY5"
      },
      "source": [
        "import os\n",
        "import numpy as np\n",
        "import cv2\n",
        "import json\n",
        "import keras\n",
        "from keras.models import load_model\n",
        "from tqdm.notebook import tqdm"
      ],
      "execution_count": 1,
      "outputs": []
    },
    {
      "cell_type": "code",
      "metadata": {
        "colab": {
          "base_uri": "https://localhost:8080/"
        },
        "id": "DKwSqd0OOTmr",
        "outputId": "457e75eb-8b9d-4aeb-e34f-b656f0736f3f"
      },
      "source": [
        "!pip install --upgrade youtube_dl"
      ],
      "execution_count": 2,
      "outputs": [
        {
          "output_type": "stream",
          "text": [
            "Collecting youtube_dl\n",
            "\u001b[?25l  Downloading https://files.pythonhosted.org/packages/60/de/2fa634ced9a44db65b566a19c2c23546b4d8293a09b736449cfc811e6324/youtube_dl-2021.3.31-py2.py3-none-any.whl (1.9MB)\n",
            "\u001b[K     |████████████████████████████████| 1.9MB 6.1MB/s \n",
            "\u001b[?25hInstalling collected packages: youtube-dl\n",
            "Successfully installed youtube-dl-2021.3.31\n"
          ],
          "name": "stdout"
        }
      ]
    },
    {
      "cell_type": "code",
      "metadata": {
        "id": "hJJyYN2nOd9h"
      },
      "source": [
        "test_videos = '/content/applyvideos'\n",
        "os.mkdir(test_videos)"
      ],
      "execution_count": 3,
      "outputs": []
    },
    {
      "cell_type": "code",
      "metadata": {
        "colab": {
          "base_uri": "https://localhost:8080/"
        },
        "id": "HUAgPFW1PSdb",
        "outputId": "4d0ccd3c-389b-4239-e0c8-ec00f20f8279"
      },
      "source": [
        "import datetime\n",
        "import youtube_dl, subprocess\n",
        "\n",
        "#these are the videos link to test, uncomment to download them\n",
        "urls = [#'https://www.youtube.com/watch?v=lHzTcRqSOhc',\n",
        "#         'https://www.youtube.com/watch?v=Fh48C5ZgpwQ',\n",
        "#         'https://www.youtube.com/watch?v=Uwm9OWUNr2E',\n",
        "#         'https://www.youtube.com/watch?v=ZtYgz3voKs0',\n",
        "#         'https://www.youtube.com/watch?v=Q938wNKSCs4',\n",
        "#         'https://www.youtube.com/watch?v=ddpR7tgf5E4',\n",
        "#         'https://www.youtube.com/watch?v=7izdDkr-RDI',\n",
        "#         'https://www.youtube.com/watch?v=fSJ3vfDnEtY',\n",
        "#         'https://www.youtube.com/watch?v=5gRCtYn2HVA',\n",
        "#         'https://www.youtube.com/watch?v=ZyhdHD6Tkfo',\n",
        "#         'https://www.youtube.com/watch?v=cI59_PCnVOo',\n",
        "#         'https://www.youtube.com/watch?v=FZWdJFMq_6Y',\n",
        "         'https://www.youtube.com/watch?v=-MnMeNqaaNw'\n",
        "#         'https://www.youtube.com/watch?v=Qleu_GreXZw',\n",
        "#         'https://www.youtube.com/watch?v=CxcvwdD3X0s',\n",
        "#         'https://www.youtube.com/watch?v=IAtRsvzzwq8',\n",
        "#         'https://www.youtube.com/watch?v=nB-ksA1hN7k',\n",
        "#         'https://www.youtube.com/watch?v=l5Ro6AUg-f0',\n",
        "#         'https://www.youtube.com/watch?v=ZovQUMqT4n0',\n",
        "#         'https://www.youtube.com/watch?v=J9p5WmM6uqo',\n",
        "#         'https://www.youtube.com/watch?v=4ENzF1f9n0k',\n",
        "#         'https://www.youtube.com/watch?v=xBS9IBXlido'\n",
        "         ]\n",
        "\n",
        "for i, id in enumerate(urls):\n",
        "  #save videos to the folder we created above\n",
        "  true = os.path.join(test_videos,\"video.12.mp4\".format(i))\n",
        "  #download videos\n",
        "  with youtube_dl.YoutubeDL({'format': 'best'}) as ydl:\n",
        "    try:\n",
        "      info = ydl.extract_info(id, download=False)\n",
        "      video = info['entries'][0] if 'entries' in info else info\n",
        "    except:\n",
        "      continue\n",
        "  #parameters\n",
        "  url = video['url']\n",
        "  starttime = datetime.timedelta(seconds=0)\n",
        "  clip_length = datetime.timedelta(seconds=9999)\n",
        "  subprocess.call(['ffmpeg', '-i', url, '-ss', str(starttime), '-t', str(clip_length), \n",
        "                   '-c:v', 'copy', '-c:a', 'copy', true,]) \n",
        "  print(\"finished downloading\")"
      ],
      "execution_count": 11,
      "outputs": [
        {
          "output_type": "stream",
          "text": [
            "[youtube] -MnMeNqaaNw: Downloading webpage\n",
            "finished downloading\n"
          ],
          "name": "stdout"
        }
      ]
    },
    {
      "cell_type": "code",
      "metadata": {
        "colab": {
          "base_uri": "https://localhost:8080/"
        },
        "id": "yCL8GawEd_sP",
        "outputId": "a1b0625a-0046-4b34-fab7-440624a4f741"
      },
      "source": [
        "from google.colab import drive\n",
        "drive.mount(\"/content/drive\")"
      ],
      "execution_count": 5,
      "outputs": [
        {
          "output_type": "stream",
          "text": [
            "Mounted at /content/drive\n"
          ],
          "name": "stdout"
        }
      ]
    },
    {
      "cell_type": "code",
      "metadata": {
        "colab": {
          "base_uri": "https://localhost:8080/"
        },
        "id": "cEg80LsiSbms",
        "outputId": "25fec9cc-0dc6-4bbe-d3d3-a50aeab1083f"
      },
      "source": [
        "model = load_model('/content/drive/MyDrive/Colab Notebooks/Submission 6/cleaningbathroom_Xcep_sub6.h5') #this .h5 model file is also avaliable on my github.tamu repo\n",
        "#loading trained model\n",
        "print(\"model loaded\")"
      ],
      "execution_count": 75,
      "outputs": [
        {
          "output_type": "stream",
          "text": [
            "model loaded\n"
          ],
          "name": "stdout"
        }
      ]
    },
    {
      "cell_type": "code",
      "metadata": {
        "colab": {
          "base_uri": "https://localhost:8080/"
        },
        "id": "Ysja2211StbC",
        "outputId": "c2e7bb2f-67a9-4a51-f818-187f87559e8d"
      },
      "source": [
        "def check_model(img, video, model): #this function will check the video with our model, and predict accruacy to produce JSON\n",
        "    #get the video itself\n",
        "    capture = cv2.VideoCapture(img)\n",
        "    # get the video frame per second\n",
        "    fps = capture.get(5) \n",
        "    # get all frames in the video\n",
        "    video_frame = int(capture.get(7)) \n",
        "    # get video length in seconds\n",
        "    length = int(video_frame/fps) \n",
        "    # get the number of predictions our model will make on the test video\n",
        "    num_pred = int(length/2) \n",
        "    # frame per prediction\n",
        "    fpp = video_frame // num_pred\n",
        "    # length per frame\n",
        "    dis = fpp // 15\n",
        "    #count the frames for each 2 second clip\n",
        "    count = 0\n",
        "    pred_count = 1\n",
        "    #some parameters to use in the for loop\n",
        "    pred_time = []\n",
        "    final_frame = []\n",
        "    clips = []\n",
        "    tmp = []\n",
        "\n",
        "    for i in tqdm(range(video_frame)): #iterating over all the frames of the video\n",
        "            #using openCV\n",
        "            ret, frame = capture.read()\n",
        "            count = count + 1\n",
        "\n",
        "            if count == dis:\n",
        "                count = count * 0\n",
        "                frame=cv2.resize(frame,(150,150),interpolation=cv2.INTER_AREA)\n",
        "                tmp.append(frame)\n",
        "                final_frame.append(frame)\n",
        "                \n",
        "            if i == ((pred_count * fpp) - 1):\n",
        "                inpt = np.array(tmp)\n",
        "                inpt = inpt.astype('float32')\n",
        "                inpt -= np.mean(inpt)\n",
        "                inpt /= np.max(inpt)\n",
        "                tmp = []\n",
        "                data = np.expand_dims(inpt, axis=0)\n",
        "                pred = model.predict(data, batch_size = 1) # verbose = 1\n",
        "                rate = pred[0][1] #prediction score stored\n",
        "                time_init = (pred_count - 1) / 0.5 #start time\n",
        "                time_end = pred_count / 0.5  # end time\n",
        "                #produce JSON file\n",
        "                if rate > 0.8: #if prediction score better than 80%, add in the JSON file\n",
        "                    time_result = ['Target: ' +  str(time_init) + 'secs - ' + str(time_end) + 'secs.']\n",
        "                    json_format = {\n",
        "                        'videoId': \"xBS9IBXlido\",\n",
        "                        'type': \"segment\",\n",
        "                        'startTime': np.float(time_init),\n",
        "                        'endTime': np.float(time_end),\n",
        "                        'observer': 'CSCE636Spring2021-heswaggy-6',\n",
        "                        'isHuman': False,\n",
        "                        'confirmedBySomeone': False,\n",
        "                        'rejectedBySomeone': False,\n",
        "                        'observation': {\n",
        "                            'label': 'Cleaning bathroom',\n",
        "                            'labelConfidence': np.float(rate)\n",
        "                        }\n",
        "                    }\n",
        "                    clips.append(json_format)\n",
        "                else:\n",
        "                    time_result = ['Others: ' +  str(time_init) + 'secs - ' + str(time_end) + 'secs.']\n",
        "                pred_count += 1\n",
        "                pred_time.append(time_result)\n",
        "\n",
        "            if cv2.waitKey(1) & 0xFF == ord('q'):\n",
        "                break\n",
        "\n",
        "    capture.release()\n",
        "    cv2.destroyAllWindows()\n",
        "\n",
        "    with open(video, 'w', encoding='utf-8') as f:\n",
        "        json.dump(clips, f, indent=4)\n",
        "    return final_frame\n",
        "\n",
        "print(\"finished\")"
      ],
      "execution_count": 76,
      "outputs": [
        {
          "output_type": "stream",
          "text": [
            "finished\n"
          ],
          "name": "stdout"
        }
      ]
    },
    {
      "cell_type": "code",
      "metadata": {
        "id": "5J7aGpv_xqUH"
      },
      "source": [
        "!mkdir ResultOfDetection"
      ],
      "execution_count": 14,
      "outputs": []
    },
    {
      "cell_type": "code",
      "metadata": {
        "colab": {
          "base_uri": "https://localhost:8080/",
          "height": 120,
          "referenced_widgets": [
            "3aeb87bb1c67449797b63d15297d0c1b",
            "ea7321d51a5e480592982a14792be378",
            "fdba2bc17ba6464d81ec88d41df22f46",
            "02e82db3ca834f5d8faf0a6141fad2d6",
            "c33b49c1ae38449487cb722db2d4d7c7",
            "a405c6e0cb5343378ef79869d4ae9dcd",
            "9dbd411979a3453da31407159dd796b5",
            "2cf1135daaeb43088c446af9f437fc28"
          ]
        },
        "id": "5TkbNVmIUl-c",
        "outputId": "271ea47c-ca77-48e3-bcc3-233c4c0d9706"
      },
      "source": [
        "final_frame = check_model('/content/applyvideos/video.21.mp4', '/content/ResultOfDetection/ResultOfDetection.21.json', model)"
      ],
      "execution_count": 77,
      "outputs": [
        {
          "output_type": "display_data",
          "data": {
            "application/vnd.jupyter.widget-view+json": {
              "model_id": "3aeb87bb1c67449797b63d15297d0c1b",
              "version_minor": 0,
              "version_major": 2
            },
            "text/plain": [
              "HBox(children=(FloatProgress(value=0.0, max=44483.0), HTML(value='')))"
            ]
          },
          "metadata": {
            "tags": []
          }
        },
        {
          "output_type": "stream",
          "text": [
            "WARNING:tensorflow:Model was constructed with shape (None, 5, 150, 150, 3) for input KerasTensor(type_spec=TensorSpec(shape=(None, 5, 150, 150, 3), dtype=tf.float32, name='time_distributed_input'), name='time_distributed_input', description=\"created by layer 'time_distributed_input'\"), but it was called on an input with incompatible shape (1, 19, 150, 150, 3).\n",
            "WARNING:tensorflow:Model was constructed with shape (None, 5, 150, 150, 3) for input KerasTensor(type_spec=TensorSpec(shape=(None, 5, 150, 150, 3), dtype=tf.float32, name='time_distributed_input'), name='time_distributed_input', description=\"created by layer 'time_distributed_input'\"), but it was called on an input with incompatible shape (1, 20, 150, 150, 3).\n",
            "\n"
          ],
          "name": "stdout"
        }
      ]
    },
    {
      "cell_type": "code",
      "metadata": {
        "id": "tdeLzEh9BoNC"
      },
      "source": [
        "!cp -a '/content/ResultOfDetection/' '/content/drive/MyDrive/Colab Notebooks/Submission 6'"
      ],
      "execution_count": 78,
      "outputs": []
    }
  ]
}