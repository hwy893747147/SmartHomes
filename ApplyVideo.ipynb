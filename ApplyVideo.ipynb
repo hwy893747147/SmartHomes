{
  "nbformat": 4,
  "nbformat_minor": 0,
  "metadata": {
    "colab": {
      "name": "ApplyVideo.ipynb",
      "provenance": [],
      "collapsed_sections": [],
      "toc_visible": true
    },
    "kernelspec": {
      "name": "python3",
      "display_name": "Python 3"
    },
    "accelerator": "GPU",
    "widgets": {
      "application/vnd.jupyter.widget-state+json": {
        "7dd65b96ada846038542d37ebb49b95f": {
          "model_module": "@jupyter-widgets/controls",
          "model_name": "HBoxModel",
          "state": {
            "_view_name": "HBoxView",
            "_dom_classes": [],
            "_model_name": "HBoxModel",
            "_view_module": "@jupyter-widgets/controls",
            "_model_module_version": "1.5.0",
            "_view_count": null,
            "_view_module_version": "1.5.0",
            "box_style": "",
            "layout": "IPY_MODEL_0014d7ac60fe4e25a88b0bbb317795a6",
            "_model_module": "@jupyter-widgets/controls",
            "children": [
              "IPY_MODEL_74d39612c6684d1bbd99d55e166a619a",
              "IPY_MODEL_da24d85660e1460c8c22b672d2c1eb65"
            ]
          }
        },
        "0014d7ac60fe4e25a88b0bbb317795a6": {
          "model_module": "@jupyter-widgets/base",
          "model_name": "LayoutModel",
          "state": {
            "_view_name": "LayoutView",
            "grid_template_rows": null,
            "right": null,
            "justify_content": null,
            "_view_module": "@jupyter-widgets/base",
            "overflow": null,
            "_model_module_version": "1.2.0",
            "_view_count": null,
            "flex_flow": null,
            "width": null,
            "min_width": null,
            "border": null,
            "align_items": null,
            "bottom": null,
            "_model_module": "@jupyter-widgets/base",
            "top": null,
            "grid_column": null,
            "overflow_y": null,
            "overflow_x": null,
            "grid_auto_flow": null,
            "grid_area": null,
            "grid_template_columns": null,
            "flex": null,
            "_model_name": "LayoutModel",
            "justify_items": null,
            "grid_row": null,
            "max_height": null,
            "align_content": null,
            "visibility": null,
            "align_self": null,
            "height": null,
            "min_height": null,
            "padding": null,
            "grid_auto_rows": null,
            "grid_gap": null,
            "max_width": null,
            "order": null,
            "_view_module_version": "1.2.0",
            "grid_template_areas": null,
            "object_position": null,
            "object_fit": null,
            "grid_auto_columns": null,
            "margin": null,
            "display": null,
            "left": null
          }
        },
        "74d39612c6684d1bbd99d55e166a619a": {
          "model_module": "@jupyter-widgets/controls",
          "model_name": "FloatProgressModel",
          "state": {
            "_view_name": "ProgressView",
            "style": "IPY_MODEL_e5c4a227657942ae9ce5f18e017d9f01",
            "_dom_classes": [],
            "description": "100%",
            "_model_name": "FloatProgressModel",
            "bar_style": "success",
            "max": 9324,
            "_view_module": "@jupyter-widgets/controls",
            "_model_module_version": "1.5.0",
            "value": 9324,
            "_view_count": null,
            "_view_module_version": "1.5.0",
            "orientation": "horizontal",
            "min": 0,
            "description_tooltip": null,
            "_model_module": "@jupyter-widgets/controls",
            "layout": "IPY_MODEL_d79dba3acd3c4fafa06464aa1f559ea7"
          }
        },
        "da24d85660e1460c8c22b672d2c1eb65": {
          "model_module": "@jupyter-widgets/controls",
          "model_name": "HTMLModel",
          "state": {
            "_view_name": "HTMLView",
            "style": "IPY_MODEL_be07816ba0a24713b73724167b2e9668",
            "_dom_classes": [],
            "description": "",
            "_model_name": "HTMLModel",
            "placeholder": "​",
            "_view_module": "@jupyter-widgets/controls",
            "_model_module_version": "1.5.0",
            "value": " 9324/9324 [00:54&lt;00:00, 170.20it/s]",
            "_view_count": null,
            "_view_module_version": "1.5.0",
            "description_tooltip": null,
            "_model_module": "@jupyter-widgets/controls",
            "layout": "IPY_MODEL_105898a3cd3945cbb787fac031c2d316"
          }
        },
        "e5c4a227657942ae9ce5f18e017d9f01": {
          "model_module": "@jupyter-widgets/controls",
          "model_name": "ProgressStyleModel",
          "state": {
            "_view_name": "StyleView",
            "_model_name": "ProgressStyleModel",
            "description_width": "initial",
            "_view_module": "@jupyter-widgets/base",
            "_model_module_version": "1.5.0",
            "_view_count": null,
            "_view_module_version": "1.2.0",
            "bar_color": null,
            "_model_module": "@jupyter-widgets/controls"
          }
        },
        "d79dba3acd3c4fafa06464aa1f559ea7": {
          "model_module": "@jupyter-widgets/base",
          "model_name": "LayoutModel",
          "state": {
            "_view_name": "LayoutView",
            "grid_template_rows": null,
            "right": null,
            "justify_content": null,
            "_view_module": "@jupyter-widgets/base",
            "overflow": null,
            "_model_module_version": "1.2.0",
            "_view_count": null,
            "flex_flow": null,
            "width": null,
            "min_width": null,
            "border": null,
            "align_items": null,
            "bottom": null,
            "_model_module": "@jupyter-widgets/base",
            "top": null,
            "grid_column": null,
            "overflow_y": null,
            "overflow_x": null,
            "grid_auto_flow": null,
            "grid_area": null,
            "grid_template_columns": null,
            "flex": null,
            "_model_name": "LayoutModel",
            "justify_items": null,
            "grid_row": null,
            "max_height": null,
            "align_content": null,
            "visibility": null,
            "align_self": null,
            "height": null,
            "min_height": null,
            "padding": null,
            "grid_auto_rows": null,
            "grid_gap": null,
            "max_width": null,
            "order": null,
            "_view_module_version": "1.2.0",
            "grid_template_areas": null,
            "object_position": null,
            "object_fit": null,
            "grid_auto_columns": null,
            "margin": null,
            "display": null,
            "left": null
          }
        },
        "be07816ba0a24713b73724167b2e9668": {
          "model_module": "@jupyter-widgets/controls",
          "model_name": "DescriptionStyleModel",
          "state": {
            "_view_name": "StyleView",
            "_model_name": "DescriptionStyleModel",
            "description_width": "",
            "_view_module": "@jupyter-widgets/base",
            "_model_module_version": "1.5.0",
            "_view_count": null,
            "_view_module_version": "1.2.0",
            "_model_module": "@jupyter-widgets/controls"
          }
        },
        "105898a3cd3945cbb787fac031c2d316": {
          "model_module": "@jupyter-widgets/base",
          "model_name": "LayoutModel",
          "state": {
            "_view_name": "LayoutView",
            "grid_template_rows": null,
            "right": null,
            "justify_content": null,
            "_view_module": "@jupyter-widgets/base",
            "overflow": null,
            "_model_module_version": "1.2.0",
            "_view_count": null,
            "flex_flow": null,
            "width": null,
            "min_width": null,
            "border": null,
            "align_items": null,
            "bottom": null,
            "_model_module": "@jupyter-widgets/base",
            "top": null,
            "grid_column": null,
            "overflow_y": null,
            "overflow_x": null,
            "grid_auto_flow": null,
            "grid_area": null,
            "grid_template_columns": null,
            "flex": null,
            "_model_name": "LayoutModel",
            "justify_items": null,
            "grid_row": null,
            "max_height": null,
            "align_content": null,
            "visibility": null,
            "align_self": null,
            "height": null,
            "min_height": null,
            "padding": null,
            "grid_auto_rows": null,
            "grid_gap": null,
            "max_width": null,
            "order": null,
            "_view_module_version": "1.2.0",
            "grid_template_areas": null,
            "object_position": null,
            "object_fit": null,
            "grid_auto_columns": null,
            "margin": null,
            "display": null,
            "left": null
          }
        }
      }
    }
  },
  "cells": [
    {
      "cell_type": "markdown",
      "metadata": {
        "id": "cyB4hgouc-5p"
      },
      "source": [
        "# Student Information"
      ]
    },
    {
      "cell_type": "markdown",
      "metadata": {
        "id": "oyPVnX0-dEGi"
      },
      "source": [
        "Wangyang He\r\n"
      ]
    },
    {
      "cell_type": "markdown",
      "metadata": {
        "id": "HqGgKS4EdLaS"
      },
      "source": [
        "UIN 625004872\r\n"
      ]
    },
    {
      "cell_type": "markdown",
      "metadata": {
        "id": "UWrVJV2EdNEn"
      },
      "source": [
        "Nickname: heswaggy"
      ]
    },
    {
      "cell_type": "markdown",
      "metadata": {
        "id": "rA4IivWQgpb8"
      },
      "source": [
        "Project submission 2"
      ]
    },
    {
      "cell_type": "code",
      "metadata": {
        "id": "b3Vkrrt0ODY5"
      },
      "source": [
        "import os\r\n",
        "import numpy as np\r\n",
        "import cv2\r\n",
        "import json\r\n",
        "import keras\r\n",
        "from keras.models import load_model\r\n",
        "from tqdm.notebook import tqdm"
      ],
      "execution_count": 1,
      "outputs": []
    },
    {
      "cell_type": "code",
      "metadata": {
        "colab": {
          "base_uri": "https://localhost:8080/"
        },
        "id": "DKwSqd0OOTmr",
        "outputId": "cff76531-9f4a-4769-eebf-f1ccc7ae73cf"
      },
      "source": [
        "!pip install --upgrade youtube_dl"
      ],
      "execution_count": 2,
      "outputs": [
        {
          "output_type": "stream",
          "text": [
            "Collecting youtube_dl\n",
            "\u001b[?25l  Downloading https://files.pythonhosted.org/packages/eb/e8/d5cea73323e467eb01c78250d69a85e0d620a70bdf896b988a391ee8d492/youtube_dl-2021.3.3-py2.py3-none-any.whl (1.9MB)\n",
            "\r\u001b[K     |▏                               | 10kB 15.7MB/s eta 0:00:01\r\u001b[K     |▍                               | 20kB 22.0MB/s eta 0:00:01\r\u001b[K     |▌                               | 30kB 26.7MB/s eta 0:00:01\r\u001b[K     |▊                               | 40kB 23.7MB/s eta 0:00:01\r\u001b[K     |▉                               | 51kB 17.4MB/s eta 0:00:01\r\u001b[K     |█                               | 61kB 15.8MB/s eta 0:00:01\r\u001b[K     |█▏                              | 71kB 13.3MB/s eta 0:00:01\r\u001b[K     |█▍                              | 81kB 13.9MB/s eta 0:00:01\r\u001b[K     |█▋                              | 92kB 14.5MB/s eta 0:00:01\r\u001b[K     |█▊                              | 102kB 13.9MB/s eta 0:00:01\r\u001b[K     |██                              | 112kB 13.9MB/s eta 0:00:01\r\u001b[K     |██                              | 122kB 13.9MB/s eta 0:00:01\r\u001b[K     |██▎                             | 133kB 13.9MB/s eta 0:00:01\r\u001b[K     |██▍                             | 143kB 13.9MB/s eta 0:00:01\r\u001b[K     |██▋                             | 153kB 13.9MB/s eta 0:00:01\r\u001b[K     |██▉                             | 163kB 13.9MB/s eta 0:00:01\r\u001b[K     |███                             | 174kB 13.9MB/s eta 0:00:01\r\u001b[K     |███▏                            | 184kB 13.9MB/s eta 0:00:01\r\u001b[K     |███▎                            | 194kB 13.9MB/s eta 0:00:01\r\u001b[K     |███▌                            | 204kB 13.9MB/s eta 0:00:01\r\u001b[K     |███▋                            | 215kB 13.9MB/s eta 0:00:01\r\u001b[K     |███▉                            | 225kB 13.9MB/s eta 0:00:01\r\u001b[K     |████                            | 235kB 13.9MB/s eta 0:00:01\r\u001b[K     |████▏                           | 245kB 13.9MB/s eta 0:00:01\r\u001b[K     |████▍                           | 256kB 13.9MB/s eta 0:00:01\r\u001b[K     |████▌                           | 266kB 13.9MB/s eta 0:00:01\r\u001b[K     |████▊                           | 276kB 13.9MB/s eta 0:00:01\r\u001b[K     |████▉                           | 286kB 13.9MB/s eta 0:00:01\r\u001b[K     |█████                           | 296kB 13.9MB/s eta 0:00:01\r\u001b[K     |█████▏                          | 307kB 13.9MB/s eta 0:00:01\r\u001b[K     |█████▍                          | 317kB 13.9MB/s eta 0:00:01\r\u001b[K     |█████▋                          | 327kB 13.9MB/s eta 0:00:01\r\u001b[K     |█████▊                          | 337kB 13.9MB/s eta 0:00:01\r\u001b[K     |██████                          | 348kB 13.9MB/s eta 0:00:01\r\u001b[K     |██████                          | 358kB 13.9MB/s eta 0:00:01\r\u001b[K     |██████▎                         | 368kB 13.9MB/s eta 0:00:01\r\u001b[K     |██████▍                         | 378kB 13.9MB/s eta 0:00:01\r\u001b[K     |██████▋                         | 389kB 13.9MB/s eta 0:00:01\r\u001b[K     |██████▊                         | 399kB 13.9MB/s eta 0:00:01\r\u001b[K     |███████                         | 409kB 13.9MB/s eta 0:00:01\r\u001b[K     |███████▏                        | 419kB 13.9MB/s eta 0:00:01\r\u001b[K     |███████▎                        | 430kB 13.9MB/s eta 0:00:01\r\u001b[K     |███████▌                        | 440kB 13.9MB/s eta 0:00:01\r\u001b[K     |███████▋                        | 450kB 13.9MB/s eta 0:00:01\r\u001b[K     |███████▉                        | 460kB 13.9MB/s eta 0:00:01\r\u001b[K     |████████                        | 471kB 13.9MB/s eta 0:00:01\r\u001b[K     |████████▏                       | 481kB 13.9MB/s eta 0:00:01\r\u001b[K     |████████▍                       | 491kB 13.9MB/s eta 0:00:01\r\u001b[K     |████████▌                       | 501kB 13.9MB/s eta 0:00:01\r\u001b[K     |████████▊                       | 512kB 13.9MB/s eta 0:00:01\r\u001b[K     |████████▉                       | 522kB 13.9MB/s eta 0:00:01\r\u001b[K     |█████████                       | 532kB 13.9MB/s eta 0:00:01\r\u001b[K     |█████████▏                      | 542kB 13.9MB/s eta 0:00:01\r\u001b[K     |█████████▍                      | 552kB 13.9MB/s eta 0:00:01\r\u001b[K     |█████████▌                      | 563kB 13.9MB/s eta 0:00:01\r\u001b[K     |█████████▊                      | 573kB 13.9MB/s eta 0:00:01\r\u001b[K     |██████████                      | 583kB 13.9MB/s eta 0:00:01\r\u001b[K     |██████████                      | 593kB 13.9MB/s eta 0:00:01\r\u001b[K     |██████████▎                     | 604kB 13.9MB/s eta 0:00:01\r\u001b[K     |██████████▍                     | 614kB 13.9MB/s eta 0:00:01\r\u001b[K     |██████████▋                     | 624kB 13.9MB/s eta 0:00:01\r\u001b[K     |██████████▊                     | 634kB 13.9MB/s eta 0:00:01\r\u001b[K     |███████████                     | 645kB 13.9MB/s eta 0:00:01\r\u001b[K     |███████████▏                    | 655kB 13.9MB/s eta 0:00:01\r\u001b[K     |███████████▎                    | 665kB 13.9MB/s eta 0:00:01\r\u001b[K     |███████████▌                    | 675kB 13.9MB/s eta 0:00:01\r\u001b[K     |███████████▋                    | 686kB 13.9MB/s eta 0:00:01\r\u001b[K     |███████████▉                    | 696kB 13.9MB/s eta 0:00:01\r\u001b[K     |████████████                    | 706kB 13.9MB/s eta 0:00:01\r\u001b[K     |████████████▏                   | 716kB 13.9MB/s eta 0:00:01\r\u001b[K     |████████████▎                   | 727kB 13.9MB/s eta 0:00:01\r\u001b[K     |████████████▌                   | 737kB 13.9MB/s eta 0:00:01\r\u001b[K     |████████████▊                   | 747kB 13.9MB/s eta 0:00:01\r\u001b[K     |████████████▉                   | 757kB 13.9MB/s eta 0:00:01\r\u001b[K     |█████████████                   | 768kB 13.9MB/s eta 0:00:01\r\u001b[K     |█████████████▏                  | 778kB 13.9MB/s eta 0:00:01\r\u001b[K     |█████████████▍                  | 788kB 13.9MB/s eta 0:00:01\r\u001b[K     |█████████████▌                  | 798kB 13.9MB/s eta 0:00:01\r\u001b[K     |█████████████▊                  | 808kB 13.9MB/s eta 0:00:01\r\u001b[K     |██████████████                  | 819kB 13.9MB/s eta 0:00:01\r\u001b[K     |██████████████                  | 829kB 13.9MB/s eta 0:00:01\r\u001b[K     |██████████████▎                 | 839kB 13.9MB/s eta 0:00:01\r\u001b[K     |██████████████▍                 | 849kB 13.9MB/s eta 0:00:01\r\u001b[K     |██████████████▋                 | 860kB 13.9MB/s eta 0:00:01\r\u001b[K     |██████████████▊                 | 870kB 13.9MB/s eta 0:00:01\r\u001b[K     |███████████████                 | 880kB 13.9MB/s eta 0:00:01\r\u001b[K     |███████████████                 | 890kB 13.9MB/s eta 0:00:01\r\u001b[K     |███████████████▎                | 901kB 13.9MB/s eta 0:00:01\r\u001b[K     |███████████████▌                | 911kB 13.9MB/s eta 0:00:01\r\u001b[K     |███████████████▋                | 921kB 13.9MB/s eta 0:00:01\r\u001b[K     |███████████████▉                | 931kB 13.9MB/s eta 0:00:01\r\u001b[K     |████████████████                | 942kB 13.9MB/s eta 0:00:01\r\u001b[K     |████████████████▏               | 952kB 13.9MB/s eta 0:00:01\r\u001b[K     |████████████████▎               | 962kB 13.9MB/s eta 0:00:01\r\u001b[K     |████████████████▌               | 972kB 13.9MB/s eta 0:00:01\r\u001b[K     |████████████████▊               | 983kB 13.9MB/s eta 0:00:01\r\u001b[K     |████████████████▉               | 993kB 13.9MB/s eta 0:00:01\r\u001b[K     |█████████████████               | 1.0MB 13.9MB/s eta 0:00:01\r\u001b[K     |█████████████████▏              | 1.0MB 13.9MB/s eta 0:00:01\r\u001b[K     |█████████████████▍              | 1.0MB 13.9MB/s eta 0:00:01\r\u001b[K     |█████████████████▌              | 1.0MB 13.9MB/s eta 0:00:01\r\u001b[K     |█████████████████▊              | 1.0MB 13.9MB/s eta 0:00:01\r\u001b[K     |█████████████████▉              | 1.1MB 13.9MB/s eta 0:00:01\r\u001b[K     |██████████████████              | 1.1MB 13.9MB/s eta 0:00:01\r\u001b[K     |██████████████████▎             | 1.1MB 13.9MB/s eta 0:00:01\r\u001b[K     |██████████████████▍             | 1.1MB 13.9MB/s eta 0:00:01\r\u001b[K     |██████████████████▋             | 1.1MB 13.9MB/s eta 0:00:01\r\u001b[K     |██████████████████▊             | 1.1MB 13.9MB/s eta 0:00:01\r\u001b[K     |███████████████████             | 1.1MB 13.9MB/s eta 0:00:01\r\u001b[K     |███████████████████             | 1.1MB 13.9MB/s eta 0:00:01\r\u001b[K     |███████████████████▎            | 1.1MB 13.9MB/s eta 0:00:01\r\u001b[K     |███████████████████▌            | 1.1MB 13.9MB/s eta 0:00:01\r\u001b[K     |███████████████████▋            | 1.2MB 13.9MB/s eta 0:00:01\r\u001b[K     |███████████████████▉            | 1.2MB 13.9MB/s eta 0:00:01\r\u001b[K     |████████████████████            | 1.2MB 13.9MB/s eta 0:00:01\r\u001b[K     |████████████████████▏           | 1.2MB 13.9MB/s eta 0:00:01\r\u001b[K     |████████████████████▎           | 1.2MB 13.9MB/s eta 0:00:01\r\u001b[K     |████████████████████▌           | 1.2MB 13.9MB/s eta 0:00:01\r\u001b[K     |████████████████████▋           | 1.2MB 13.9MB/s eta 0:00:01\r\u001b[K     |████████████████████▉           | 1.2MB 13.9MB/s eta 0:00:01\r\u001b[K     |█████████████████████           | 1.2MB 13.9MB/s eta 0:00:01\r\u001b[K     |█████████████████████▏          | 1.2MB 13.9MB/s eta 0:00:01\r\u001b[K     |█████████████████████▍          | 1.3MB 13.9MB/s eta 0:00:01\r\u001b[K     |█████████████████████▌          | 1.3MB 13.9MB/s eta 0:00:01\r\u001b[K     |█████████████████████▊          | 1.3MB 13.9MB/s eta 0:00:01\r\u001b[K     |█████████████████████▉          | 1.3MB 13.9MB/s eta 0:00:01\r\u001b[K     |██████████████████████          | 1.3MB 13.9MB/s eta 0:00:01\r\u001b[K     |██████████████████████▎         | 1.3MB 13.9MB/s eta 0:00:01\r\u001b[K     |██████████████████████▍         | 1.3MB 13.9MB/s eta 0:00:01\r\u001b[K     |██████████████████████▋         | 1.3MB 13.9MB/s eta 0:00:01\r\u001b[K     |██████████████████████▊         | 1.3MB 13.9MB/s eta 0:00:01\r\u001b[K     |███████████████████████         | 1.4MB 13.9MB/s eta 0:00:01\r\u001b[K     |███████████████████████         | 1.4MB 13.9MB/s eta 0:00:01\r\u001b[K     |███████████████████████▎        | 1.4MB 13.9MB/s eta 0:00:01\r\u001b[K     |███████████████████████▍        | 1.4MB 13.9MB/s eta 0:00:01\r\u001b[K     |███████████████████████▋        | 1.4MB 13.9MB/s eta 0:00:01\r\u001b[K     |███████████████████████▉        | 1.4MB 13.9MB/s eta 0:00:01\r\u001b[K     |████████████████████████        | 1.4MB 13.9MB/s eta 0:00:01\r\u001b[K     |████████████████████████▏       | 1.4MB 13.9MB/s eta 0:00:01\r\u001b[K     |████████████████████████▎       | 1.4MB 13.9MB/s eta 0:00:01\r\u001b[K     |████████████████████████▌       | 1.4MB 13.9MB/s eta 0:00:01\r\u001b[K     |████████████████████████▋       | 1.5MB 13.9MB/s eta 0:00:01\r\u001b[K     |████████████████████████▉       | 1.5MB 13.9MB/s eta 0:00:01\r\u001b[K     |█████████████████████████       | 1.5MB 13.9MB/s eta 0:00:01\r\u001b[K     |█████████████████████████▏      | 1.5MB 13.9MB/s eta 0:00:01\r\u001b[K     |█████████████████████████▍      | 1.5MB 13.9MB/s eta 0:00:01\r\u001b[K     |█████████████████████████▌      | 1.5MB 13.9MB/s eta 0:00:01\r\u001b[K     |█████████████████████████▊      | 1.5MB 13.9MB/s eta 0:00:01\r\u001b[K     |█████████████████████████▉      | 1.5MB 13.9MB/s eta 0:00:01\r\u001b[K     |██████████████████████████      | 1.5MB 13.9MB/s eta 0:00:01\r\u001b[K     |██████████████████████████▏     | 1.5MB 13.9MB/s eta 0:00:01\r\u001b[K     |██████████████████████████▍     | 1.6MB 13.9MB/s eta 0:00:01\r\u001b[K     |██████████████████████████▋     | 1.6MB 13.9MB/s eta 0:00:01\r\u001b[K     |██████████████████████████▊     | 1.6MB 13.9MB/s eta 0:00:01\r\u001b[K     |███████████████████████████     | 1.6MB 13.9MB/s eta 0:00:01\r\u001b[K     |███████████████████████████     | 1.6MB 13.9MB/s eta 0:00:01\r\u001b[K     |███████████████████████████▎    | 1.6MB 13.9MB/s eta 0:00:01\r\u001b[K     |███████████████████████████▍    | 1.6MB 13.9MB/s eta 0:00:01\r\u001b[K     |███████████████████████████▋    | 1.6MB 13.9MB/s eta 0:00:01\r\u001b[K     |███████████████████████████▉    | 1.6MB 13.9MB/s eta 0:00:01\r\u001b[K     |████████████████████████████    | 1.6MB 13.9MB/s eta 0:00:01\r\u001b[K     |████████████████████████████▏   | 1.7MB 13.9MB/s eta 0:00:01\r\u001b[K     |████████████████████████████▎   | 1.7MB 13.9MB/s eta 0:00:01\r\u001b[K     |████████████████████████████▌   | 1.7MB 13.9MB/s eta 0:00:01\r\u001b[K     |████████████████████████████▋   | 1.7MB 13.9MB/s eta 0:00:01\r\u001b[K     |████████████████████████████▉   | 1.7MB 13.9MB/s eta 0:00:01\r\u001b[K     |█████████████████████████████   | 1.7MB 13.9MB/s eta 0:00:01\r\u001b[K     |█████████████████████████████▏  | 1.7MB 13.9MB/s eta 0:00:01\r\u001b[K     |█████████████████████████████▍  | 1.7MB 13.9MB/s eta 0:00:01\r\u001b[K     |█████████████████████████████▌  | 1.7MB 13.9MB/s eta 0:00:01\r\u001b[K     |█████████████████████████████▊  | 1.8MB 13.9MB/s eta 0:00:01\r\u001b[K     |█████████████████████████████▉  | 1.8MB 13.9MB/s eta 0:00:01\r\u001b[K     |██████████████████████████████  | 1.8MB 13.9MB/s eta 0:00:01\r\u001b[K     |██████████████████████████████▏ | 1.8MB 13.9MB/s eta 0:00:01\r\u001b[K     |██████████████████████████████▍ | 1.8MB 13.9MB/s eta 0:00:01\r\u001b[K     |██████████████████████████████▋ | 1.8MB 13.9MB/s eta 0:00:01\r\u001b[K     |██████████████████████████████▊ | 1.8MB 13.9MB/s eta 0:00:01\r\u001b[K     |███████████████████████████████ | 1.8MB 13.9MB/s eta 0:00:01\r\u001b[K     |███████████████████████████████ | 1.8MB 13.9MB/s eta 0:00:01\r\u001b[K     |███████████████████████████████▎| 1.8MB 13.9MB/s eta 0:00:01\r\u001b[K     |███████████████████████████████▍| 1.9MB 13.9MB/s eta 0:00:01\r\u001b[K     |███████████████████████████████▋| 1.9MB 13.9MB/s eta 0:00:01\r\u001b[K     |███████████████████████████████▊| 1.9MB 13.9MB/s eta 0:00:01\r\u001b[K     |████████████████████████████████| 1.9MB 13.9MB/s eta 0:00:01\r\u001b[K     |████████████████████████████████| 1.9MB 13.9MB/s \n",
            "\u001b[?25hInstalling collected packages: youtube-dl\n",
            "Successfully installed youtube-dl-2021.3.3\n"
          ],
          "name": "stdout"
        }
      ]
    },
    {
      "cell_type": "code",
      "metadata": {
        "id": "hJJyYN2nOd9h"
      },
      "source": [
        "test_videos = '/content/applyvideos'\r\n",
        "os.mkdir(test_videos)"
      ],
      "execution_count": 3,
      "outputs": []
    },
    {
      "cell_type": "code",
      "metadata": {
        "colab": {
          "base_uri": "https://localhost:8080/"
        },
        "id": "HUAgPFW1PSdb",
        "outputId": "bf7755b8-af0d-417e-dd69-c745ce04b9b5"
      },
      "source": [
        "import datetime\r\n",
        "import youtube_dl, subprocess\r\n",
        "\r\n",
        "#these are the videos link to test, uncomment to download them\r\n",
        "urls = ['https://www.youtube.com/watch?v=UqQqhaBSTAg',\r\n",
        "         # 'https://www.youtube.com/watch?v=dO8anUw4zvY',\r\n",
        "         #'https://www.youtube.com/watch?v=eAfukUmsbjs',\r\n",
        "         #'https://www.youtube.com/watch?v=kdt_jXB95Qk',\r\n",
        "        #'https://www.youtube.com/watch?v=O-Ys7Q0rf34'\r\n",
        "         ]\r\n",
        "\r\n",
        "for i, id in enumerate(urls):\r\n",
        "  #save videos to the folder we created above\r\n",
        "  true = os.path.join(test_videos,\"video.24.mp4\".format(i))\r\n",
        "  #download videos\r\n",
        "  with youtube_dl.YoutubeDL({'format': 'best'}) as ydl:\r\n",
        "    try:\r\n",
        "      info = ydl.extract_info(id, download=False)\r\n",
        "      video = info['entries'][0] if 'entries' in info else info\r\n",
        "    except:\r\n",
        "      continue\r\n",
        "  #parameters\r\n",
        "  url = video['url']\r\n",
        "  starttime = datetime.timedelta(seconds=0)\r\n",
        "  clip_length = datetime.timedelta(seconds=1000)\r\n",
        "  subprocess.call(['ffmpeg', '-i', url, '-ss', str(starttime), '-t', str(clip_length), \r\n",
        "                   '-c:v', 'copy', '-c:a', 'copy', true,]) \r\n",
        "  print(\"finished downloading\")"
      ],
      "execution_count": 16,
      "outputs": [
        {
          "output_type": "stream",
          "text": [
            "[youtube] UqQqhaBSTAg: Downloading webpage\n",
            "finished downloading\n"
          ],
          "name": "stdout"
        }
      ]
    },
    {
      "cell_type": "code",
      "metadata": {
        "colab": {
          "base_uri": "https://localhost:8080/"
        },
        "id": "yCL8GawEd_sP",
        "outputId": "c630250f-e798-41a7-f164-e0fafb76e3c2"
      },
      "source": [
        "from google.colab import drive\r\n",
        "drive.mount(\"/content/drive\")"
      ],
      "execution_count": 5,
      "outputs": [
        {
          "output_type": "stream",
          "text": [
            "Mounted at /content/drive\n"
          ],
          "name": "stdout"
        }
      ]
    },
    {
      "cell_type": "code",
      "metadata": {
        "colab": {
          "base_uri": "https://localhost:8080/"
        },
        "id": "cEg80LsiSbms",
        "outputId": "914b80fc-04ff-4fa3-a07f-f8645571e5d2"
      },
      "source": [
        "model = load_model('/content/drive/MyDrive/CSCE636/fall_VGG16_sub2.h5')\r\n",
        "#loading trained model\r\n",
        "print(\"model loaded\")"
      ],
      "execution_count": 11,
      "outputs": [
        {
          "output_type": "stream",
          "text": [
            "model loaded\n"
          ],
          "name": "stdout"
        }
      ]
    },
    {
      "cell_type": "code",
      "metadata": {
        "colab": {
          "base_uri": "https://localhost:8080/"
        },
        "id": "Ysja2211StbC",
        "outputId": "3ac95fa5-5329-457c-edc5-495b525e5613"
      },
      "source": [
        "def check_model(img, video, model): #this function will check the video with our model, and predict accruacy to produce JSON\r\n",
        "    #get the video itself\r\n",
        "    capture = cv2.VideoCapture(img)\r\n",
        "    # get the video frame per second\r\n",
        "    fps = capture.get(5) \r\n",
        "    # get all frames in the video\r\n",
        "    video_frame = int(capture.get(7)) \r\n",
        "    # get video length in seconds\r\n",
        "    length = int(video_frame/fps) \r\n",
        "    # get the number of predictions our model will make on the test video\r\n",
        "    num_pred = int(length/2) \r\n",
        "    # frame per prediction\r\n",
        "    fpp = video_frame // num_pred\r\n",
        "    # length per frame\r\n",
        "    dis = fpp // 15\r\n",
        "    #count the frames for each 2 second clip\r\n",
        "    count = 0\r\n",
        "    pred_count = 1\r\n",
        "    #some parameters to use in the for loop\r\n",
        "    pred_time = []\r\n",
        "    final_frame = []\r\n",
        "    clips = []\r\n",
        "    tmp = []\r\n",
        "\r\n",
        "    for i in tqdm(range(video_frame)): #iterating over all the frames of the video\r\n",
        "            #using openCV\r\n",
        "            ret, frame = capture.read()\r\n",
        "            count = count + 1\r\n",
        "\r\n",
        "            if count == dis:\r\n",
        "                count = count * 0\r\n",
        "                frame=cv2.resize(frame,(150,150),interpolation=cv2.INTER_AREA)\r\n",
        "                tmp.append(frame)\r\n",
        "                final_frame.append(frame)\r\n",
        "                \r\n",
        "            if i == ((pred_count * fpp) - 1):\r\n",
        "                inpt = np.array(tmp)\r\n",
        "                inpt = inpt.astype('float32')\r\n",
        "                inpt -= np.mean(inpt)\r\n",
        "                inpt /= np.max(inpt)\r\n",
        "                tmp = []\r\n",
        "                data = np.expand_dims(inpt, axis=0)\r\n",
        "                pred = model.predict(data, batch_size = 1) # verbose = 1\r\n",
        "                rate = pred[0][1] #prediction score stored\r\n",
        "                time_init = (pred_count - 1) / 0.5 #start time\r\n",
        "                time_end = pred_count / 0.5  # end time\r\n",
        "                #produce JSON file\r\n",
        "                if rate > 0.7: #if prediction score better than 70%, add in the JSON file\r\n",
        "                    time_result = ['Target: ' +  str(time_init) + 'secs - ' + str(time_end) + 'secs.']\r\n",
        "                    json_format = {\r\n",
        "                        'videoId': \"UqQqhaBSTAg\",\r\n",
        "                        'type': \"segment\",\r\n",
        "                        'startTime': np.float(time_init),\r\n",
        "                        'endTime': np.float(time_end),\r\n",
        "                        'observer': 'CSCE636Spring2021-heswaggy-2',\r\n",
        "                        'isHuman': False,\r\n",
        "                        'confirmedBySomeone': False,\r\n",
        "                        'rejectedBySomeone': False,\r\n",
        "                        'observation': {\r\n",
        "                            'label': 'fall',\r\n",
        "                            'labelConfidence': np.float(rate)\r\n",
        "                        }\r\n",
        "                    }\r\n",
        "                    clips.append(json_format)\r\n",
        "                else:\r\n",
        "                    time_result = ['Others: ' +  str(time_init) + 'secs - ' + str(time_end) + 'secs.']\r\n",
        "                pred_count += 1\r\n",
        "                pred_time.append(time_result)\r\n",
        "\r\n",
        "            if cv2.waitKey(1) & 0xFF == ord('q'):\r\n",
        "                break\r\n",
        "\r\n",
        "    capture.release()\r\n",
        "    cv2.destroyAllWindows()\r\n",
        "\r\n",
        "    with open(video, 'w', encoding='utf-8') as f:\r\n",
        "        json.dump(clips, f, indent=4)\r\n",
        "    return final_frame\r\n",
        "\r\n",
        "print(\"finished\")"
      ],
      "execution_count": 17,
      "outputs": [
        {
          "output_type": "stream",
          "text": [
            "finished\n"
          ],
          "name": "stdout"
        }
      ]
    },
    {
      "cell_type": "code",
      "metadata": {
        "colab": {
          "base_uri": "https://localhost:8080/",
          "height": 65,
          "referenced_widgets": [
            "7dd65b96ada846038542d37ebb49b95f",
            "0014d7ac60fe4e25a88b0bbb317795a6",
            "74d39612c6684d1bbd99d55e166a619a",
            "da24d85660e1460c8c22b672d2c1eb65",
            "e5c4a227657942ae9ce5f18e017d9f01",
            "d79dba3acd3c4fafa06464aa1f559ea7",
            "be07816ba0a24713b73724167b2e9668",
            "105898a3cd3945cbb787fac031c2d316"
          ]
        },
        "id": "5TkbNVmIUl-c",
        "outputId": "8eb67945-2567-4764-fb4f-49ae15b3b05d"
      },
      "source": [
        "final_frame = check_model('/content/applyvideos/video.24.mp4', 'video_24.json', model)"
      ],
      "execution_count": 18,
      "outputs": [
        {
          "output_type": "display_data",
          "data": {
            "application/vnd.jupyter.widget-view+json": {
              "model_id": "7dd65b96ada846038542d37ebb49b95f",
              "version_minor": 0,
              "version_major": 2
            },
            "text/plain": [
              "HBox(children=(FloatProgress(value=0.0, max=9324.0), HTML(value='')))"
            ]
          },
          "metadata": {
            "tags": []
          }
        },
        {
          "output_type": "stream",
          "text": [
            "\n"
          ],
          "name": "stdout"
        }
      ]
    },
    {
      "cell_type": "code",
      "metadata": {
        "id": "tdeLzEh9BoNC"
      },
      "source": [
        "!cp -a '/content/applyvideos/' '/content/drive/MyDrive/CSCE636/sub1testvideos'"
      ],
      "execution_count": 110,
      "outputs": []
    }
  ]
}