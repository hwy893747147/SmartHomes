{
  "nbformat": 4,
  "nbformat_minor": 0,
  "metadata": {
    "colab": {
      "name": "Sub3ApplyVideo.ipynb",
      "provenance": [],
      "collapsed_sections": [],
      "toc_visible": true
    },
    "kernelspec": {
      "name": "python3",
      "display_name": "Python 3"
    },
    "accelerator": "GPU",
    "widgets": {
      "application/vnd.jupyter.widget-state+json": {
        "83a401a6a1804cdf81da1bff93d4e054": {
          "model_module": "@jupyter-widgets/controls",
          "model_name": "HBoxModel",
          "state": {
            "_view_name": "HBoxView",
            "_dom_classes": [],
            "_model_name": "HBoxModel",
            "_view_module": "@jupyter-widgets/controls",
            "_model_module_version": "1.5.0",
            "_view_count": null,
            "_view_module_version": "1.5.0",
            "box_style": "",
            "layout": "IPY_MODEL_c958612089764399921615bf7abe68e5",
            "_model_module": "@jupyter-widgets/controls",
            "children": [
              "IPY_MODEL_8a7ea3a24fcf4974976a6447f290e2ba",
              "IPY_MODEL_1b4d8fb5e22e411882795007ec613a59"
            ]
          }
        },
        "c958612089764399921615bf7abe68e5": {
          "model_module": "@jupyter-widgets/base",
          "model_name": "LayoutModel",
          "state": {
            "_view_name": "LayoutView",
            "grid_template_rows": null,
            "right": null,
            "justify_content": null,
            "_view_module": "@jupyter-widgets/base",
            "overflow": null,
            "_model_module_version": "1.2.0",
            "_view_count": null,
            "flex_flow": null,
            "width": null,
            "min_width": null,
            "border": null,
            "align_items": null,
            "bottom": null,
            "_model_module": "@jupyter-widgets/base",
            "top": null,
            "grid_column": null,
            "overflow_y": null,
            "overflow_x": null,
            "grid_auto_flow": null,
            "grid_area": null,
            "grid_template_columns": null,
            "flex": null,
            "_model_name": "LayoutModel",
            "justify_items": null,
            "grid_row": null,
            "max_height": null,
            "align_content": null,
            "visibility": null,
            "align_self": null,
            "height": null,
            "min_height": null,
            "padding": null,
            "grid_auto_rows": null,
            "grid_gap": null,
            "max_width": null,
            "order": null,
            "_view_module_version": "1.2.0",
            "grid_template_areas": null,
            "object_position": null,
            "object_fit": null,
            "grid_auto_columns": null,
            "margin": null,
            "display": null,
            "left": null
          }
        },
        "8a7ea3a24fcf4974976a6447f290e2ba": {
          "model_module": "@jupyter-widgets/controls",
          "model_name": "FloatProgressModel",
          "state": {
            "_view_name": "ProgressView",
            "style": "IPY_MODEL_41f917b822c749dc9ab40bdae81afeb7",
            "_dom_classes": [],
            "description": "100%",
            "_model_name": "FloatProgressModel",
            "bar_style": "success",
            "max": 17749,
            "_view_module": "@jupyter-widgets/controls",
            "_model_module_version": "1.5.0",
            "value": 17749,
            "_view_count": null,
            "_view_module_version": "1.5.0",
            "orientation": "horizontal",
            "min": 0,
            "description_tooltip": null,
            "_model_module": "@jupyter-widgets/controls",
            "layout": "IPY_MODEL_b7ce8116cff8407ba4f186a56a05a740"
          }
        },
        "1b4d8fb5e22e411882795007ec613a59": {
          "model_module": "@jupyter-widgets/controls",
          "model_name": "HTMLModel",
          "state": {
            "_view_name": "HTMLView",
            "style": "IPY_MODEL_44e3f1c245ed432d9a4f0864cce9fc98",
            "_dom_classes": [],
            "description": "",
            "_model_name": "HTMLModel",
            "placeholder": "​",
            "_view_module": "@jupyter-widgets/controls",
            "_model_module_version": "1.5.0",
            "value": " 17749/17749 [00:37&lt;00:00, 470.75it/s]",
            "_view_count": null,
            "_view_module_version": "1.5.0",
            "description_tooltip": null,
            "_model_module": "@jupyter-widgets/controls",
            "layout": "IPY_MODEL_f7ae673d7d8348db811b4a4658500c88"
          }
        },
        "41f917b822c749dc9ab40bdae81afeb7": {
          "model_module": "@jupyter-widgets/controls",
          "model_name": "ProgressStyleModel",
          "state": {
            "_view_name": "StyleView",
            "_model_name": "ProgressStyleModel",
            "description_width": "initial",
            "_view_module": "@jupyter-widgets/base",
            "_model_module_version": "1.5.0",
            "_view_count": null,
            "_view_module_version": "1.2.0",
            "bar_color": null,
            "_model_module": "@jupyter-widgets/controls"
          }
        },
        "b7ce8116cff8407ba4f186a56a05a740": {
          "model_module": "@jupyter-widgets/base",
          "model_name": "LayoutModel",
          "state": {
            "_view_name": "LayoutView",
            "grid_template_rows": null,
            "right": null,
            "justify_content": null,
            "_view_module": "@jupyter-widgets/base",
            "overflow": null,
            "_model_module_version": "1.2.0",
            "_view_count": null,
            "flex_flow": null,
            "width": null,
            "min_width": null,
            "border": null,
            "align_items": null,
            "bottom": null,
            "_model_module": "@jupyter-widgets/base",
            "top": null,
            "grid_column": null,
            "overflow_y": null,
            "overflow_x": null,
            "grid_auto_flow": null,
            "grid_area": null,
            "grid_template_columns": null,
            "flex": null,
            "_model_name": "LayoutModel",
            "justify_items": null,
            "grid_row": null,
            "max_height": null,
            "align_content": null,
            "visibility": null,
            "align_self": null,
            "height": null,
            "min_height": null,
            "padding": null,
            "grid_auto_rows": null,
            "grid_gap": null,
            "max_width": null,
            "order": null,
            "_view_module_version": "1.2.0",
            "grid_template_areas": null,
            "object_position": null,
            "object_fit": null,
            "grid_auto_columns": null,
            "margin": null,
            "display": null,
            "left": null
          }
        },
        "44e3f1c245ed432d9a4f0864cce9fc98": {
          "model_module": "@jupyter-widgets/controls",
          "model_name": "DescriptionStyleModel",
          "state": {
            "_view_name": "StyleView",
            "_model_name": "DescriptionStyleModel",
            "description_width": "",
            "_view_module": "@jupyter-widgets/base",
            "_model_module_version": "1.5.0",
            "_view_count": null,
            "_view_module_version": "1.2.0",
            "_model_module": "@jupyter-widgets/controls"
          }
        },
        "f7ae673d7d8348db811b4a4658500c88": {
          "model_module": "@jupyter-widgets/base",
          "model_name": "LayoutModel",
          "state": {
            "_view_name": "LayoutView",
            "grid_template_rows": null,
            "right": null,
            "justify_content": null,
            "_view_module": "@jupyter-widgets/base",
            "overflow": null,
            "_model_module_version": "1.2.0",
            "_view_count": null,
            "flex_flow": null,
            "width": null,
            "min_width": null,
            "border": null,
            "align_items": null,
            "bottom": null,
            "_model_module": "@jupyter-widgets/base",
            "top": null,
            "grid_column": null,
            "overflow_y": null,
            "overflow_x": null,
            "grid_auto_flow": null,
            "grid_area": null,
            "grid_template_columns": null,
            "flex": null,
            "_model_name": "LayoutModel",
            "justify_items": null,
            "grid_row": null,
            "max_height": null,
            "align_content": null,
            "visibility": null,
            "align_self": null,
            "height": null,
            "min_height": null,
            "padding": null,
            "grid_auto_rows": null,
            "grid_gap": null,
            "max_width": null,
            "order": null,
            "_view_module_version": "1.2.0",
            "grid_template_areas": null,
            "object_position": null,
            "object_fit": null,
            "grid_auto_columns": null,
            "margin": null,
            "display": null,
            "left": null
          }
        }
      }
    }
  },
  "cells": [
    {
      "cell_type": "markdown",
      "metadata": {
        "id": "cyB4hgouc-5p"
      },
      "source": [
        "# Student Information"
      ]
    },
    {
      "cell_type": "markdown",
      "metadata": {
        "id": "oyPVnX0-dEGi"
      },
      "source": [
        "Wangyang He\r\n"
      ]
    },
    {
      "cell_type": "markdown",
      "metadata": {
        "id": "HqGgKS4EdLaS"
      },
      "source": [
        "UIN 625004872\r\n"
      ]
    },
    {
      "cell_type": "markdown",
      "metadata": {
        "id": "UWrVJV2EdNEn"
      },
      "source": [
        "Nickname: heswaggy"
      ]
    },
    {
      "cell_type": "markdown",
      "metadata": {
        "id": "rA4IivWQgpb8"
      },
      "source": [
        "Project submission 3"
      ]
    },
    {
      "cell_type": "code",
      "metadata": {
        "id": "b3Vkrrt0ODY5"
      },
      "source": [
        "import os\r\n",
        "import numpy as np\r\n",
        "import cv2\r\n",
        "import json\r\n",
        "import keras\r\n",
        "from keras.models import load_model\r\n",
        "from tqdm.notebook import tqdm"
      ],
      "execution_count": null,
      "outputs": []
    },
    {
      "cell_type": "code",
      "metadata": {
        "colab": {
          "base_uri": "https://localhost:8080/"
        },
        "id": "DKwSqd0OOTmr",
        "outputId": "eee94447-3cfd-4e90-b728-a69115df3738"
      },
      "source": [
        "!pip install --upgrade youtube_dl"
      ],
      "execution_count": null,
      "outputs": [
        {
          "output_type": "stream",
          "text": [
            "Collecting youtube_dl\n",
            "\u001b[?25l  Downloading https://files.pythonhosted.org/packages/eb/e8/d5cea73323e467eb01c78250d69a85e0d620a70bdf896b988a391ee8d492/youtube_dl-2021.3.3-py2.py3-none-any.whl (1.9MB)\n",
            "\u001b[K     |████████████████████████████████| 1.9MB 5.7MB/s \n",
            "\u001b[?25hInstalling collected packages: youtube-dl\n",
            "Successfully installed youtube-dl-2021.3.3\n"
          ],
          "name": "stdout"
        }
      ]
    },
    {
      "cell_type": "code",
      "metadata": {
        "id": "hJJyYN2nOd9h"
      },
      "source": [
        "test_videos = '/content/applyvideos'\r\n",
        "os.mkdir(test_videos)"
      ],
      "execution_count": null,
      "outputs": []
    },
    {
      "cell_type": "code",
      "metadata": {
        "colab": {
          "base_uri": "https://localhost:8080/"
        },
        "id": "HUAgPFW1PSdb",
        "outputId": "bca54721-12f8-4eda-f4ae-4e0158cf2902"
      },
      "source": [
        "import datetime\r\n",
        "import youtube_dl, subprocess\r\n",
        "\r\n",
        "#these are the videos link to test, uncomment to download them\r\n",
        "urls = ['https://www.youtube.com/watch?v=p1gfCnZ-fGI&t'\r\n",
        "         ]\r\n",
        "\r\n",
        "for i, id in enumerate(urls):\r\n",
        "  #save videos to the folder we created above\r\n",
        "  true = os.path.join(test_videos,\"video.{}.mp4\".format(i))\r\n",
        "  #download videos\r\n",
        "  with youtube_dl.YoutubeDL({'format': 'best'}) as ydl:\r\n",
        "    try:\r\n",
        "      info = ydl.extract_info(id, download=False)\r\n",
        "      video = info['entries'][0] if 'entries' in info else info\r\n",
        "    except:\r\n",
        "      continue\r\n",
        "  #parameters\r\n",
        "  url = video['url']\r\n",
        "  starttime = datetime.timedelta(seconds=0)\r\n",
        "  clip_length = datetime.timedelta(seconds=1000)\r\n",
        "  subprocess.call(['ffmpeg', '-i', url, '-ss', str(starttime), '-t', str(clip_length), \r\n",
        "                   '-c:v', 'copy', '-c:a', 'copy', true,]) \r\n",
        "  print(\"finished downloading\")"
      ],
      "execution_count": null,
      "outputs": [
        {
          "output_type": "stream",
          "text": [
            "[youtube] p1gfCnZ-fGI: Downloading webpage\n",
            "finished downloading\n"
          ],
          "name": "stdout"
        }
      ]
    },
    {
      "cell_type": "code",
      "metadata": {
        "colab": {
          "base_uri": "https://localhost:8080/"
        },
        "id": "yCL8GawEd_sP",
        "outputId": "4fb94bc4-6961-40e9-a90d-79520d904457"
      },
      "source": [
        "from google.colab import drive\r\n",
        "drive.mount(\"/content/drive\")"
      ],
      "execution_count": null,
      "outputs": [
        {
          "output_type": "stream",
          "text": [
            "Mounted at /content/drive\n"
          ],
          "name": "stdout"
        }
      ]
    },
    {
      "cell_type": "code",
      "metadata": {
        "colab": {
          "base_uri": "https://localhost:8080/"
        },
        "id": "cEg80LsiSbms",
        "outputId": "2e7e16d3-cecb-46df-bcb2-b8af2f656650"
      },
      "source": [
        "model = load_model('/content/drive/MyDrive/Colab Notebooks/Submission 3/coughing_Xcep_sub3.h5') #this .h5 model file is also avaliable on my github.tamu repo\r\n",
        "#loading trained model\r\n",
        "print(\"model loaded\")"
      ],
      "execution_count": null,
      "outputs": [
        {
          "output_type": "stream",
          "text": [
            "model loaded\n"
          ],
          "name": "stdout"
        }
      ]
    },
    {
      "cell_type": "code",
      "metadata": {
        "colab": {
          "base_uri": "https://localhost:8080/"
        },
        "id": "Ysja2211StbC",
        "outputId": "92b12c6e-fa9c-46fc-be10-96785389bda7"
      },
      "source": [
        "def check_model(img, video, model): #this function will check the video with our model, and predict accruacy to produce JSON\r\n",
        "    #get the video itself\r\n",
        "    capture = cv2.VideoCapture(img)\r\n",
        "    # get the video frame per second\r\n",
        "    fps = capture.get(5) \r\n",
        "    # get all frames in the video\r\n",
        "    video_frame = int(capture.get(7)) \r\n",
        "    # get video length in seconds\r\n",
        "    length = int(video_frame/fps) \r\n",
        "    # get the number of predictions our model will make on the test video\r\n",
        "    num_pred = int(length/2) \r\n",
        "    # frame per prediction\r\n",
        "    fpp = video_frame // num_pred\r\n",
        "    # length per frame\r\n",
        "    dis = fpp // 15\r\n",
        "    #count the frames for each 2 second clip\r\n",
        "    count = 0\r\n",
        "    pred_count = 1\r\n",
        "    #some parameters to use in the for loop\r\n",
        "    pred_time = []\r\n",
        "    final_frame = []\r\n",
        "    clips = []\r\n",
        "    tmp = []\r\n",
        "\r\n",
        "    for i in tqdm(range(video_frame)): #iterating over all the frames of the video\r\n",
        "            #using openCV\r\n",
        "            ret, frame = capture.read()\r\n",
        "            count = count + 1\r\n",
        "\r\n",
        "            if count == dis:\r\n",
        "                count = count * 0\r\n",
        "                frame=cv2.resize(frame,(150,150),interpolation=cv2.INTER_AREA)\r\n",
        "                tmp.append(frame)\r\n",
        "                final_frame.append(frame)\r\n",
        "                \r\n",
        "            if i == ((pred_count * fpp) - 1):\r\n",
        "                inpt = np.array(tmp)\r\n",
        "                inpt = inpt.astype('float32')\r\n",
        "                inpt -= np.mean(inpt)\r\n",
        "                inpt /= np.max(inpt)\r\n",
        "                tmp = []\r\n",
        "                data = np.expand_dims(inpt, axis=0)\r\n",
        "                pred = model.predict(data, batch_size = 1) # verbose = 1\r\n",
        "                rate = pred[0][1] #prediction score stored\r\n",
        "                time_init = (pred_count - 1) / 0.5 #start time\r\n",
        "                time_end = pred_count / 0.5  # end time\r\n",
        "                #produce JSON file\r\n",
        "                if rate > 0.8: #if prediction score better than 80%, add in the JSON file\r\n",
        "                    time_result = ['Target: ' +  str(time_init) + 'secs - ' + str(time_end) + 'secs.']\r\n",
        "                    json_format = {\r\n",
        "                        'videoId': \"p1gfCnZ-fGI&t\",\r\n",
        "                        'type': \"segment\",\r\n",
        "                        'startTime': np.float(time_init),\r\n",
        "                        'endTime': np.float(time_end),\r\n",
        "                        'observer': 'CSCE636Spring2021-heswaggy-3',\r\n",
        "                        'isHuman': False,\r\n",
        "                        'confirmedBySomeone': False,\r\n",
        "                        'rejectedBySomeone': False,\r\n",
        "                        'observation': {\r\n",
        "                            'label': 'coughing',\r\n",
        "                            'labelConfidence': np.float(rate)\r\n",
        "                        }\r\n",
        "                    }\r\n",
        "                    clips.append(json_format)\r\n",
        "                else:\r\n",
        "                    time_result = ['Others: ' +  str(time_init) + 'secs - ' + str(time_end) + 'secs.']\r\n",
        "                pred_count += 1\r\n",
        "                pred_time.append(time_result)\r\n",
        "\r\n",
        "            if cv2.waitKey(1) & 0xFF == ord('q'):\r\n",
        "                break\r\n",
        "\r\n",
        "    capture.release()\r\n",
        "    cv2.destroyAllWindows()\r\n",
        "\r\n",
        "    with open(video, 'w', encoding='utf-8') as f:\r\n",
        "        json.dump(clips, f, indent=4)\r\n",
        "    return final_frame\r\n",
        "\r\n",
        "print(\"finished\")"
      ],
      "execution_count": 14,
      "outputs": [
        {
          "output_type": "stream",
          "text": [
            "finished\n"
          ],
          "name": "stdout"
        }
      ]
    },
    {
      "cell_type": "code",
      "metadata": {
        "colab": {
          "base_uri": "https://localhost:8080/",
          "height": 66,
          "referenced_widgets": [
            "83a401a6a1804cdf81da1bff93d4e054",
            "c958612089764399921615bf7abe68e5",
            "8a7ea3a24fcf4974976a6447f290e2ba",
            "1b4d8fb5e22e411882795007ec613a59",
            "41f917b822c749dc9ab40bdae81afeb7",
            "b7ce8116cff8407ba4f186a56a05a740",
            "44e3f1c245ed432d9a4f0864cce9fc98",
            "f7ae673d7d8348db811b4a4658500c88"
          ]
        },
        "id": "5TkbNVmIUl-c",
        "outputId": "4ca44be7-14c3-4590-f545-2f8f8d094b68"
      },
      "source": [
        "final_frame = check_model('/content/applyvideos/video.0.mp4', '/content/ResultOfDetection/ResultOfDetection.0.json', model)"
      ],
      "execution_count": 15,
      "outputs": [
        {
          "output_type": "display_data",
          "data": {
            "application/vnd.jupyter.widget-view+json": {
              "model_id": "83a401a6a1804cdf81da1bff93d4e054",
              "version_minor": 0,
              "version_major": 2
            },
            "text/plain": [
              "HBox(children=(FloatProgress(value=0.0, max=17749.0), HTML(value='')))"
            ]
          },
          "metadata": {
            "tags": []
          }
        },
        {
          "output_type": "stream",
          "text": [
            "\n"
          ],
          "name": "stdout"
        }
      ]
    },
    {
      "cell_type": "code",
      "metadata": {
        "id": "tdeLzEh9BoNC"
      },
      "source": [
        "!cp -a '/content/applyvideos/' '/content/drive/MyDrive/CSCE636/sub1testvideos'"
      ],
      "execution_count": null,
      "outputs": []
    }
  ]
}