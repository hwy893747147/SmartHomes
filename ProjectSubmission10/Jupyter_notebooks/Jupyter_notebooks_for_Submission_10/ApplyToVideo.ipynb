{
  "nbformat": 4,
  "nbformat_minor": 0,
  "metadata": {
    "accelerator": "GPU",
    "colab": {
      "name": "Sub10ApplyVideo.ipynb",
      "provenance": [],
      "collapsed_sections": [],
      "toc_visible": true
    },
    "kernelspec": {
      "display_name": "Python 3",
      "name": "python3"
    },
    "widgets": {
      "application/vnd.jupyter.widget-state+json": {
        "f3a47f315df148f4ba3ced4b348d2905": {
          "model_module": "@jupyter-widgets/controls",
          "model_name": "HBoxModel",
          "state": {
            "_view_name": "HBoxView",
            "_dom_classes": [],
            "_model_name": "HBoxModel",
            "_view_module": "@jupyter-widgets/controls",
            "_model_module_version": "1.5.0",
            "_view_count": null,
            "_view_module_version": "1.5.0",
            "box_style": "",
            "layout": "IPY_MODEL_0f70e511ab7840018049dd63b14fb147",
            "_model_module": "@jupyter-widgets/controls",
            "children": [
              "IPY_MODEL_bdab9c8483b043ab9d11a89df3a03d1a",
              "IPY_MODEL_e642f33fb5ed44099b84b85b515f4407"
            ]
          }
        },
        "0f70e511ab7840018049dd63b14fb147": {
          "model_module": "@jupyter-widgets/base",
          "model_name": "LayoutModel",
          "state": {
            "_view_name": "LayoutView",
            "grid_template_rows": null,
            "right": null,
            "justify_content": null,
            "_view_module": "@jupyter-widgets/base",
            "overflow": null,
            "_model_module_version": "1.2.0",
            "_view_count": null,
            "flex_flow": null,
            "width": null,
            "min_width": null,
            "border": null,
            "align_items": null,
            "bottom": null,
            "_model_module": "@jupyter-widgets/base",
            "top": null,
            "grid_column": null,
            "overflow_y": null,
            "overflow_x": null,
            "grid_auto_flow": null,
            "grid_area": null,
            "grid_template_columns": null,
            "flex": null,
            "_model_name": "LayoutModel",
            "justify_items": null,
            "grid_row": null,
            "max_height": null,
            "align_content": null,
            "visibility": null,
            "align_self": null,
            "height": null,
            "min_height": null,
            "padding": null,
            "grid_auto_rows": null,
            "grid_gap": null,
            "max_width": null,
            "order": null,
            "_view_module_version": "1.2.0",
            "grid_template_areas": null,
            "object_position": null,
            "object_fit": null,
            "grid_auto_columns": null,
            "margin": null,
            "display": null,
            "left": null
          }
        },
        "bdab9c8483b043ab9d11a89df3a03d1a": {
          "model_module": "@jupyter-widgets/controls",
          "model_name": "FloatProgressModel",
          "state": {
            "_view_name": "ProgressView",
            "style": "IPY_MODEL_abca4d3100f84a8d82108ae0a0655258",
            "_dom_classes": [],
            "description": "100%",
            "_model_name": "FloatProgressModel",
            "bar_style": "success",
            "max": 42710,
            "_view_module": "@jupyter-widgets/controls",
            "_model_module_version": "1.5.0",
            "value": 42710,
            "_view_count": null,
            "_view_module_version": "1.5.0",
            "orientation": "horizontal",
            "min": 0,
            "description_tooltip": null,
            "_model_module": "@jupyter-widgets/controls",
            "layout": "IPY_MODEL_09306019027a4188b3fbfb06e0f43520"
          }
        },
        "e642f33fb5ed44099b84b85b515f4407": {
          "model_module": "@jupyter-widgets/controls",
          "model_name": "HTMLModel",
          "state": {
            "_view_name": "HTMLView",
            "style": "IPY_MODEL_ecf5b30e9bb5474eadcdc9cf42ecbf67",
            "_dom_classes": [],
            "description": "",
            "_model_name": "HTMLModel",
            "placeholder": "​",
            "_view_module": "@jupyter-widgets/controls",
            "_model_module_version": "1.5.0",
            "value": " 42710/42710 [04:20&lt;00:00, 163.88it/s]",
            "_view_count": null,
            "_view_module_version": "1.5.0",
            "description_tooltip": null,
            "_model_module": "@jupyter-widgets/controls",
            "layout": "IPY_MODEL_7dbbcaedeeed42c08285f2f48d283321"
          }
        },
        "abca4d3100f84a8d82108ae0a0655258": {
          "model_module": "@jupyter-widgets/controls",
          "model_name": "ProgressStyleModel",
          "state": {
            "_view_name": "StyleView",
            "_model_name": "ProgressStyleModel",
            "description_width": "initial",
            "_view_module": "@jupyter-widgets/base",
            "_model_module_version": "1.5.0",
            "_view_count": null,
            "_view_module_version": "1.2.0",
            "bar_color": null,
            "_model_module": "@jupyter-widgets/controls"
          }
        },
        "09306019027a4188b3fbfb06e0f43520": {
          "model_module": "@jupyter-widgets/base",
          "model_name": "LayoutModel",
          "state": {
            "_view_name": "LayoutView",
            "grid_template_rows": null,
            "right": null,
            "justify_content": null,
            "_view_module": "@jupyter-widgets/base",
            "overflow": null,
            "_model_module_version": "1.2.0",
            "_view_count": null,
            "flex_flow": null,
            "width": null,
            "min_width": null,
            "border": null,
            "align_items": null,
            "bottom": null,
            "_model_module": "@jupyter-widgets/base",
            "top": null,
            "grid_column": null,
            "overflow_y": null,
            "overflow_x": null,
            "grid_auto_flow": null,
            "grid_area": null,
            "grid_template_columns": null,
            "flex": null,
            "_model_name": "LayoutModel",
            "justify_items": null,
            "grid_row": null,
            "max_height": null,
            "align_content": null,
            "visibility": null,
            "align_self": null,
            "height": null,
            "min_height": null,
            "padding": null,
            "grid_auto_rows": null,
            "grid_gap": null,
            "max_width": null,
            "order": null,
            "_view_module_version": "1.2.0",
            "grid_template_areas": null,
            "object_position": null,
            "object_fit": null,
            "grid_auto_columns": null,
            "margin": null,
            "display": null,
            "left": null
          }
        },
        "ecf5b30e9bb5474eadcdc9cf42ecbf67": {
          "model_module": "@jupyter-widgets/controls",
          "model_name": "DescriptionStyleModel",
          "state": {
            "_view_name": "StyleView",
            "_model_name": "DescriptionStyleModel",
            "description_width": "",
            "_view_module": "@jupyter-widgets/base",
            "_model_module_version": "1.5.0",
            "_view_count": null,
            "_view_module_version": "1.2.0",
            "_model_module": "@jupyter-widgets/controls"
          }
        },
        "7dbbcaedeeed42c08285f2f48d283321": {
          "model_module": "@jupyter-widgets/base",
          "model_name": "LayoutModel",
          "state": {
            "_view_name": "LayoutView",
            "grid_template_rows": null,
            "right": null,
            "justify_content": null,
            "_view_module": "@jupyter-widgets/base",
            "overflow": null,
            "_model_module_version": "1.2.0",
            "_view_count": null,
            "flex_flow": null,
            "width": null,
            "min_width": null,
            "border": null,
            "align_items": null,
            "bottom": null,
            "_model_module": "@jupyter-widgets/base",
            "top": null,
            "grid_column": null,
            "overflow_y": null,
            "overflow_x": null,
            "grid_auto_flow": null,
            "grid_area": null,
            "grid_template_columns": null,
            "flex": null,
            "_model_name": "LayoutModel",
            "justify_items": null,
            "grid_row": null,
            "max_height": null,
            "align_content": null,
            "visibility": null,
            "align_self": null,
            "height": null,
            "min_height": null,
            "padding": null,
            "grid_auto_rows": null,
            "grid_gap": null,
            "max_width": null,
            "order": null,
            "_view_module_version": "1.2.0",
            "grid_template_areas": null,
            "object_position": null,
            "object_fit": null,
            "grid_auto_columns": null,
            "margin": null,
            "display": null,
            "left": null
          }
        }
      }
    }
  },
  "cells": [
    {
      "cell_type": "markdown",
      "metadata": {
        "id": "cyB4hgouc-5p"
      },
      "source": [
        "# Student Information"
      ]
    },
    {
      "cell_type": "markdown",
      "metadata": {
        "id": "oyPVnX0-dEGi"
      },
      "source": [
        "Wangyang He\n"
      ]
    },
    {
      "cell_type": "markdown",
      "metadata": {
        "id": "HqGgKS4EdLaS"
      },
      "source": [
        "UIN 625004872\n"
      ]
    },
    {
      "cell_type": "markdown",
      "metadata": {
        "id": "UWrVJV2EdNEn"
      },
      "source": [
        "Nickname: heswaggy"
      ]
    },
    {
      "cell_type": "markdown",
      "metadata": {
        "id": "rA4IivWQgpb8"
      },
      "source": [
        "Project submission 10"
      ]
    },
    {
      "cell_type": "code",
      "metadata": {
        "id": "b3Vkrrt0ODY5"
      },
      "source": [
        "import os\n",
        "import numpy as np\n",
        "import cv2\n",
        "import json\n",
        "import keras\n",
        "from keras.models import load_model\n",
        "from tqdm.notebook import tqdm"
      ],
      "execution_count": null,
      "outputs": []
    },
    {
      "cell_type": "code",
      "metadata": {
        "colab": {
          "base_uri": "https://localhost:8080/"
        },
        "id": "DKwSqd0OOTmr",
        "outputId": "0d5d0f33-fca3-47b1-e866-fc3b61b68803"
      },
      "source": [
        "!pip install --upgrade youtube_dl"
      ],
      "execution_count": null,
      "outputs": [
        {
          "output_type": "stream",
          "text": [
            "Collecting youtube_dl\n",
            "\u001b[?25l  Downloading https://files.pythonhosted.org/packages/f4/93/3faf0e257fe2d37672901b46739bf63e198066e53dd02d956d6b2daa9c49/youtube_dl-2021.4.26-py2.py3-none-any.whl (1.9MB)\n",
            "\r\u001b[K     |▏                               | 10kB 23.1MB/s eta 0:00:01\r\u001b[K     |▍                               | 20kB 29.1MB/s eta 0:00:01\r\u001b[K     |▌                               | 30kB 21.6MB/s eta 0:00:01\r\u001b[K     |▊                               | 40kB 17.3MB/s eta 0:00:01\r\u001b[K     |▉                               | 51kB 15.6MB/s eta 0:00:01\r\u001b[K     |█                               | 61kB 13.9MB/s eta 0:00:01\r\u001b[K     |█▏                              | 71kB 15.6MB/s eta 0:00:01\r\u001b[K     |█▍                              | 81kB 15.5MB/s eta 0:00:01\r\u001b[K     |█▌                              | 92kB 14.2MB/s eta 0:00:01\r\u001b[K     |█▊                              | 102kB 13.2MB/s eta 0:00:01\r\u001b[K     |██                              | 112kB 13.2MB/s eta 0:00:01\r\u001b[K     |██                              | 122kB 13.2MB/s eta 0:00:01\r\u001b[K     |██▎                             | 133kB 13.2MB/s eta 0:00:01\r\u001b[K     |██▍                             | 143kB 13.2MB/s eta 0:00:01\r\u001b[K     |██▋                             | 153kB 13.2MB/s eta 0:00:01\r\u001b[K     |██▊                             | 163kB 13.2MB/s eta 0:00:01\r\u001b[K     |███                             | 174kB 13.2MB/s eta 0:00:01\r\u001b[K     |███                             | 184kB 13.2MB/s eta 0:00:01\r\u001b[K     |███▎                            | 194kB 13.2MB/s eta 0:00:01\r\u001b[K     |███▍                            | 204kB 13.2MB/s eta 0:00:01\r\u001b[K     |███▋                            | 215kB 13.2MB/s eta 0:00:01\r\u001b[K     |███▉                            | 225kB 13.2MB/s eta 0:00:01\r\u001b[K     |████                            | 235kB 13.2MB/s eta 0:00:01\r\u001b[K     |████▏                           | 245kB 13.2MB/s eta 0:00:01\r\u001b[K     |████▎                           | 256kB 13.2MB/s eta 0:00:01\r\u001b[K     |████▌                           | 266kB 13.2MB/s eta 0:00:01\r\u001b[K     |████▋                           | 276kB 13.2MB/s eta 0:00:01\r\u001b[K     |████▉                           | 286kB 13.2MB/s eta 0:00:01\r\u001b[K     |█████                           | 296kB 13.2MB/s eta 0:00:01\r\u001b[K     |█████▏                          | 307kB 13.2MB/s eta 0:00:01\r\u001b[K     |█████▍                          | 317kB 13.2MB/s eta 0:00:01\r\u001b[K     |█████▌                          | 327kB 13.2MB/s eta 0:00:01\r\u001b[K     |█████▊                          | 337kB 13.2MB/s eta 0:00:01\r\u001b[K     |█████▉                          | 348kB 13.2MB/s eta 0:00:01\r\u001b[K     |██████                          | 358kB 13.2MB/s eta 0:00:01\r\u001b[K     |██████▏                         | 368kB 13.2MB/s eta 0:00:01\r\u001b[K     |██████▍                         | 378kB 13.2MB/s eta 0:00:01\r\u001b[K     |██████▌                         | 389kB 13.2MB/s eta 0:00:01\r\u001b[K     |██████▊                         | 399kB 13.2MB/s eta 0:00:01\r\u001b[K     |██████▉                         | 409kB 13.2MB/s eta 0:00:01\r\u001b[K     |███████                         | 419kB 13.2MB/s eta 0:00:01\r\u001b[K     |███████▎                        | 430kB 13.2MB/s eta 0:00:01\r\u001b[K     |███████▍                        | 440kB 13.2MB/s eta 0:00:01\r\u001b[K     |███████▋                        | 450kB 13.2MB/s eta 0:00:01\r\u001b[K     |███████▊                        | 460kB 13.2MB/s eta 0:00:01\r\u001b[K     |████████                        | 471kB 13.2MB/s eta 0:00:01\r\u001b[K     |████████                        | 481kB 13.2MB/s eta 0:00:01\r\u001b[K     |████████▎                       | 491kB 13.2MB/s eta 0:00:01\r\u001b[K     |████████▍                       | 501kB 13.2MB/s eta 0:00:01\r\u001b[K     |████████▋                       | 512kB 13.2MB/s eta 0:00:01\r\u001b[K     |████████▉                       | 522kB 13.2MB/s eta 0:00:01\r\u001b[K     |█████████                       | 532kB 13.2MB/s eta 0:00:01\r\u001b[K     |█████████▏                      | 542kB 13.2MB/s eta 0:00:01\r\u001b[K     |█████████▎                      | 552kB 13.2MB/s eta 0:00:01\r\u001b[K     |█████████▌                      | 563kB 13.2MB/s eta 0:00:01\r\u001b[K     |█████████▋                      | 573kB 13.2MB/s eta 0:00:01\r\u001b[K     |█████████▉                      | 583kB 13.2MB/s eta 0:00:01\r\u001b[K     |██████████                      | 593kB 13.2MB/s eta 0:00:01\r\u001b[K     |██████████▏                     | 604kB 13.2MB/s eta 0:00:01\r\u001b[K     |██████████▎                     | 614kB 13.2MB/s eta 0:00:01\r\u001b[K     |██████████▌                     | 624kB 13.2MB/s eta 0:00:01\r\u001b[K     |██████████▊                     | 634kB 13.2MB/s eta 0:00:01\r\u001b[K     |██████████▉                     | 645kB 13.2MB/s eta 0:00:01\r\u001b[K     |███████████                     | 655kB 13.2MB/s eta 0:00:01\r\u001b[K     |███████████▏                    | 665kB 13.2MB/s eta 0:00:01\r\u001b[K     |███████████▍                    | 675kB 13.2MB/s eta 0:00:01\r\u001b[K     |███████████▌                    | 686kB 13.2MB/s eta 0:00:01\r\u001b[K     |███████████▊                    | 696kB 13.2MB/s eta 0:00:01\r\u001b[K     |███████████▉                    | 706kB 13.2MB/s eta 0:00:01\r\u001b[K     |████████████                    | 716kB 13.2MB/s eta 0:00:01\r\u001b[K     |████████████▎                   | 727kB 13.2MB/s eta 0:00:01\r\u001b[K     |████████████▍                   | 737kB 13.2MB/s eta 0:00:01\r\u001b[K     |████████████▋                   | 747kB 13.2MB/s eta 0:00:01\r\u001b[K     |████████████▊                   | 757kB 13.2MB/s eta 0:00:01\r\u001b[K     |█████████████                   | 768kB 13.2MB/s eta 0:00:01\r\u001b[K     |█████████████                   | 778kB 13.2MB/s eta 0:00:01\r\u001b[K     |█████████████▎                  | 788kB 13.2MB/s eta 0:00:01\r\u001b[K     |█████████████▍                  | 798kB 13.2MB/s eta 0:00:01\r\u001b[K     |█████████████▋                  | 808kB 13.2MB/s eta 0:00:01\r\u001b[K     |█████████████▊                  | 819kB 13.2MB/s eta 0:00:01\r\u001b[K     |██████████████                  | 829kB 13.2MB/s eta 0:00:01\r\u001b[K     |██████████████▏                 | 839kB 13.2MB/s eta 0:00:01\r\u001b[K     |██████████████▎                 | 849kB 13.2MB/s eta 0:00:01\r\u001b[K     |██████████████▌                 | 860kB 13.2MB/s eta 0:00:01\r\u001b[K     |██████████████▋                 | 870kB 13.2MB/s eta 0:00:01\r\u001b[K     |██████████████▉                 | 880kB 13.2MB/s eta 0:00:01\r\u001b[K     |███████████████                 | 890kB 13.2MB/s eta 0:00:01\r\u001b[K     |███████████████▏                | 901kB 13.2MB/s eta 0:00:01\r\u001b[K     |███████████████▎                | 911kB 13.2MB/s eta 0:00:01\r\u001b[K     |███████████████▌                | 921kB 13.2MB/s eta 0:00:01\r\u001b[K     |███████████████▋                | 931kB 13.2MB/s eta 0:00:01\r\u001b[K     |███████████████▉                | 942kB 13.2MB/s eta 0:00:01\r\u001b[K     |████████████████                | 952kB 13.2MB/s eta 0:00:01\r\u001b[K     |████████████████▏               | 962kB 13.2MB/s eta 0:00:01\r\u001b[K     |████████████████▍               | 972kB 13.2MB/s eta 0:00:01\r\u001b[K     |████████████████▌               | 983kB 13.2MB/s eta 0:00:01\r\u001b[K     |████████████████▊               | 993kB 13.2MB/s eta 0:00:01\r\u001b[K     |████████████████▉               | 1.0MB 13.2MB/s eta 0:00:01\r\u001b[K     |█████████████████               | 1.0MB 13.2MB/s eta 0:00:01\r\u001b[K     |█████████████████▏              | 1.0MB 13.2MB/s eta 0:00:01\r\u001b[K     |█████████████████▍              | 1.0MB 13.2MB/s eta 0:00:01\r\u001b[K     |█████████████████▋              | 1.0MB 13.2MB/s eta 0:00:01\r\u001b[K     |█████████████████▊              | 1.1MB 13.2MB/s eta 0:00:01\r\u001b[K     |██████████████████              | 1.1MB 13.2MB/s eta 0:00:01\r\u001b[K     |██████████████████              | 1.1MB 13.2MB/s eta 0:00:01\r\u001b[K     |██████████████████▎             | 1.1MB 13.2MB/s eta 0:00:01\r\u001b[K     |██████████████████▍             | 1.1MB 13.2MB/s eta 0:00:01\r\u001b[K     |██████████████████▋             | 1.1MB 13.2MB/s eta 0:00:01\r\u001b[K     |██████████████████▊             | 1.1MB 13.2MB/s eta 0:00:01\r\u001b[K     |███████████████████             | 1.1MB 13.2MB/s eta 0:00:01\r\u001b[K     |███████████████████             | 1.1MB 13.2MB/s eta 0:00:01\r\u001b[K     |███████████████████▎            | 1.1MB 13.2MB/s eta 0:00:01\r\u001b[K     |███████████████████▌            | 1.2MB 13.2MB/s eta 0:00:01\r\u001b[K     |███████████████████▋            | 1.2MB 13.2MB/s eta 0:00:01\r\u001b[K     |███████████████████▉            | 1.2MB 13.2MB/s eta 0:00:01\r\u001b[K     |████████████████████            | 1.2MB 13.2MB/s eta 0:00:01\r\u001b[K     |████████████████████▏           | 1.2MB 13.2MB/s eta 0:00:01\r\u001b[K     |████████████████████▎           | 1.2MB 13.2MB/s eta 0:00:01\r\u001b[K     |████████████████████▌           | 1.2MB 13.2MB/s eta 0:00:01\r\u001b[K     |████████████████████▋           | 1.2MB 13.2MB/s eta 0:00:01\r\u001b[K     |████████████████████▉           | 1.2MB 13.2MB/s eta 0:00:01\r\u001b[K     |█████████████████████           | 1.2MB 13.2MB/s eta 0:00:01\r\u001b[K     |█████████████████████▏          | 1.3MB 13.2MB/s eta 0:00:01\r\u001b[K     |█████████████████████▍          | 1.3MB 13.2MB/s eta 0:00:01\r\u001b[K     |█████████████████████▌          | 1.3MB 13.2MB/s eta 0:00:01\r\u001b[K     |█████████████████████▊          | 1.3MB 13.2MB/s eta 0:00:01\r\u001b[K     |█████████████████████▉          | 1.3MB 13.2MB/s eta 0:00:01\r\u001b[K     |██████████████████████          | 1.3MB 13.2MB/s eta 0:00:01\r\u001b[K     |██████████████████████▏         | 1.3MB 13.2MB/s eta 0:00:01\r\u001b[K     |██████████████████████▍         | 1.3MB 13.2MB/s eta 0:00:01\r\u001b[K     |██████████████████████▌         | 1.3MB 13.2MB/s eta 0:00:01\r\u001b[K     |██████████████████████▊         | 1.4MB 13.2MB/s eta 0:00:01\r\u001b[K     |███████████████████████         | 1.4MB 13.2MB/s eta 0:00:01\r\u001b[K     |███████████████████████         | 1.4MB 13.2MB/s eta 0:00:01\r\u001b[K     |███████████████████████▎        | 1.4MB 13.2MB/s eta 0:00:01\r\u001b[K     |███████████████████████▍        | 1.4MB 13.2MB/s eta 0:00:01\r\u001b[K     |███████████████████████▋        | 1.4MB 13.2MB/s eta 0:00:01\r\u001b[K     |███████████████████████▊        | 1.4MB 13.2MB/s eta 0:00:01\r\u001b[K     |████████████████████████        | 1.4MB 13.2MB/s eta 0:00:01\r\u001b[K     |████████████████████████        | 1.4MB 13.2MB/s eta 0:00:01\r\u001b[K     |████████████████████████▎       | 1.4MB 13.2MB/s eta 0:00:01\r\u001b[K     |████████████████████████▌       | 1.5MB 13.2MB/s eta 0:00:01\r\u001b[K     |████████████████████████▋       | 1.5MB 13.2MB/s eta 0:00:01\r\u001b[K     |████████████████████████▉       | 1.5MB 13.2MB/s eta 0:00:01\r\u001b[K     |█████████████████████████       | 1.5MB 13.2MB/s eta 0:00:01\r\u001b[K     |█████████████████████████▏      | 1.5MB 13.2MB/s eta 0:00:01\r\u001b[K     |█████████████████████████▎      | 1.5MB 13.2MB/s eta 0:00:01\r\u001b[K     |█████████████████████████▌      | 1.5MB 13.2MB/s eta 0:00:01\r\u001b[K     |█████████████████████████▋      | 1.5MB 13.2MB/s eta 0:00:01\r\u001b[K     |█████████████████████████▉      | 1.5MB 13.2MB/s eta 0:00:01\r\u001b[K     |██████████████████████████      | 1.5MB 13.2MB/s eta 0:00:01\r\u001b[K     |██████████████████████████▏     | 1.6MB 13.2MB/s eta 0:00:01\r\u001b[K     |██████████████████████████▍     | 1.6MB 13.2MB/s eta 0:00:01\r\u001b[K     |██████████████████████████▌     | 1.6MB 13.2MB/s eta 0:00:01\r\u001b[K     |██████████████████████████▊     | 1.6MB 13.2MB/s eta 0:00:01\r\u001b[K     |██████████████████████████▉     | 1.6MB 13.2MB/s eta 0:00:01\r\u001b[K     |███████████████████████████     | 1.6MB 13.2MB/s eta 0:00:01\r\u001b[K     |███████████████████████████▏    | 1.6MB 13.2MB/s eta 0:00:01\r\u001b[K     |███████████████████████████▍    | 1.6MB 13.2MB/s eta 0:00:01\r\u001b[K     |███████████████████████████▌    | 1.6MB 13.2MB/s eta 0:00:01\r\u001b[K     |███████████████████████████▊    | 1.6MB 13.2MB/s eta 0:00:01\r\u001b[K     |████████████████████████████    | 1.7MB 13.2MB/s eta 0:00:01\r\u001b[K     |████████████████████████████    | 1.7MB 13.2MB/s eta 0:00:01\r\u001b[K     |████████████████████████████▎   | 1.7MB 13.2MB/s eta 0:00:01\r\u001b[K     |████████████████████████████▍   | 1.7MB 13.2MB/s eta 0:00:01\r\u001b[K     |████████████████████████████▋   | 1.7MB 13.2MB/s eta 0:00:01\r\u001b[K     |████████████████████████████▊   | 1.7MB 13.2MB/s eta 0:00:01\r\u001b[K     |█████████████████████████████   | 1.7MB 13.2MB/s eta 0:00:01\r\u001b[K     |█████████████████████████████   | 1.7MB 13.2MB/s eta 0:00:01\r\u001b[K     |█████████████████████████████▎  | 1.7MB 13.2MB/s eta 0:00:01\r\u001b[K     |█████████████████████████████▍  | 1.8MB 13.2MB/s eta 0:00:01\r\u001b[K     |█████████████████████████████▋  | 1.8MB 13.2MB/s eta 0:00:01\r\u001b[K     |█████████████████████████████▉  | 1.8MB 13.2MB/s eta 0:00:01\r\u001b[K     |██████████████████████████████  | 1.8MB 13.2MB/s eta 0:00:01\r\u001b[K     |██████████████████████████████▏ | 1.8MB 13.2MB/s eta 0:00:01\r\u001b[K     |██████████████████████████████▎ | 1.8MB 13.2MB/s eta 0:00:01\r\u001b[K     |██████████████████████████████▌ | 1.8MB 13.2MB/s eta 0:00:01\r\u001b[K     |██████████████████████████████▋ | 1.8MB 13.2MB/s eta 0:00:01\r\u001b[K     |██████████████████████████████▉ | 1.8MB 13.2MB/s eta 0:00:01\r\u001b[K     |███████████████████████████████ | 1.8MB 13.2MB/s eta 0:00:01\r\u001b[K     |███████████████████████████████▏| 1.9MB 13.2MB/s eta 0:00:01\r\u001b[K     |███████████████████████████████▎| 1.9MB 13.2MB/s eta 0:00:01\r\u001b[K     |███████████████████████████████▌| 1.9MB 13.2MB/s eta 0:00:01\r\u001b[K     |███████████████████████████████▊| 1.9MB 13.2MB/s eta 0:00:01\r\u001b[K     |███████████████████████████████▉| 1.9MB 13.2MB/s eta 0:00:01\r\u001b[K     |████████████████████████████████| 1.9MB 13.2MB/s \n",
            "\u001b[?25hInstalling collected packages: youtube-dl\n",
            "Successfully installed youtube-dl-2021.4.26\n"
          ],
          "name": "stdout"
        }
      ]
    },
    {
      "cell_type": "code",
      "metadata": {
        "id": "hJJyYN2nOd9h"
      },
      "source": [
        "test_videos = '/content/applyvideos'\n",
        "os.mkdir(test_videos)"
      ],
      "execution_count": null,
      "outputs": []
    },
    {
      "cell_type": "code",
      "metadata": {
        "colab": {
          "base_uri": "https://localhost:8080/"
        },
        "id": "HUAgPFW1PSdb",
        "outputId": "f4b61a3f-c421-470e-882c-1f7166f0589e"
      },
      "source": [
        "import datetime\n",
        "import youtube_dl, subprocess\n",
        "\n",
        "#these are the videos link to test, uncomment to download them\n",
        "urls = [\n",
        "        'https://www.youtube.com/watch?v=73WPGgsfvt8',\n",
        "        'https://www.youtube.com/watch?v=q_KdYNHtmZ8',\n",
        "        'https://www.youtube.com/watch?v=iRLueS8j4zk',\n",
        "        'https://www.youtube.com/watch?v=Ws6YiDt5Z9M',\n",
        "        'https://www.youtube.com/watch?v=q7aH2ZWshHM',\n",
        "        'https://www.youtube.com/watch?v=Kp9FOMbjFGE',\n",
        "        'https://www.youtube.com/watch?v=Mq8Oe4fF4_I',\n",
        "        'https://www.youtube.com/watch?v=Hhn04MJvEl4',\n",
        "        'https://www.youtube.com/watch?v=jJhhSHgO5fk',\n",
        "        'https://www.youtube.com/watch?v=mAqqU1VP5fc',\n",
        "        'https://www.youtube.com/watch?v=5zhB-ym2gMU',\n",
        "        'https://www.youtube.com/watch?v=k_Y5fM9lyBo',\n",
        "        'https://www.youtube.com/watch?v=cPeGTpAavnk',\n",
        "        'https://www.youtube.com/watch?v=9geYStBX1Iw',\n",
        "        'https://www.youtube.com/watch?v=Mz7IbHsoNlk',\n",
        "        'https://www.youtube.com/watch?v=TqA9a-5dO6Q',\n",
        "        'https://www.youtube.com/watch?v=RLihptVh0SY'\n",
        "         ]\n",
        "\n",
        "for i, id in enumerate(urls):\n",
        "  #save videos to the folder we created above\n",
        "  true = os.path.join(test_videos,\"video.{}.mp4\".format(i))\n",
        "  #download videos\n",
        "  with youtube_dl.YoutubeDL({'format': 'best'}) as ydl:\n",
        "    try:\n",
        "      info = ydl.extract_info(id, download=False)\n",
        "      video = info['entries'][0] if 'entries' in info else info\n",
        "    except:\n",
        "      continue\n",
        "  #parameters\n",
        "  url = video['url']\n",
        "  starttime = datetime.timedelta(seconds=0)\n",
        "  clip_length = datetime.timedelta(seconds=9999)\n",
        "  subprocess.call(['ffmpeg', '-i', url, '-ss', str(starttime), '-t', str(clip_length), \n",
        "                   '-c:v', 'copy', '-c:a', 'copy', true,]) \n",
        "  print(\"finished downloading\")"
      ],
      "execution_count": null,
      "outputs": [
        {
          "output_type": "stream",
          "text": [
            "[youtube] 73WPGgsfvt8: Downloading webpage\n",
            "[youtube] 73WPGgsfvt8: Downloading MPD manifest\n",
            "finished downloading\n",
            "[youtube] q_KdYNHtmZ8: Downloading webpage\n",
            "finished downloading\n",
            "[youtube] iRLueS8j4zk: Downloading webpage\n",
            "[youtube] iRLueS8j4zk: Downloading MPD manifest\n",
            "finished downloading\n",
            "[youtube] Ws6YiDt5Z9M: Downloading webpage\n",
            "finished downloading\n",
            "[youtube] q7aH2ZWshHM: Downloading webpage\n",
            "[youtube] q7aH2ZWshHM: Downloading MPD manifest\n",
            "finished downloading\n",
            "[youtube] Kp9FOMbjFGE: Downloading webpage\n",
            "finished downloading\n",
            "[youtube] Mq8Oe4fF4_I: Downloading webpage\n",
            "[youtube] Mq8Oe4fF4_I: Downloading MPD manifest\n",
            "finished downloading\n",
            "[youtube] Hhn04MJvEl4: Downloading webpage\n",
            "finished downloading\n",
            "[youtube] jJhhSHgO5fk: Downloading webpage\n",
            "[youtube] jJhhSHgO5fk: Downloading MPD manifest\n",
            "finished downloading\n",
            "[youtube] mAqqU1VP5fc: Downloading webpage\n",
            "finished downloading\n",
            "[youtube] 5zhB-ym2gMU: Downloading webpage\n",
            "finished downloading\n",
            "[youtube] k_Y5fM9lyBo: Downloading webpage\n",
            "finished downloading\n",
            "[youtube] cPeGTpAavnk: Downloading webpage\n",
            "[youtube] cPeGTpAavnk: Downloading MPD manifest\n",
            "finished downloading\n",
            "[youtube] 9geYStBX1Iw: Downloading webpage\n",
            "finished downloading\n",
            "[youtube] Mz7IbHsoNlk: Downloading webpage\n",
            "finished downloading\n",
            "[youtube] TqA9a-5dO6Q: Downloading webpage\n",
            "finished downloading\n",
            "[youtube] RLihptVh0SY: Downloading webpage\n",
            "finished downloading\n"
          ],
          "name": "stdout"
        }
      ]
    },
    {
      "cell_type": "code",
      "metadata": {
        "colab": {
          "base_uri": "https://localhost:8080/"
        },
        "id": "yCL8GawEd_sP",
        "outputId": "2149af00-6988-4adf-e8f8-0acd096c456e"
      },
      "source": [
        "from google.colab import drive\n",
        "drive.mount(\"/content/drive\")"
      ],
      "execution_count": null,
      "outputs": [
        {
          "output_type": "stream",
          "text": [
            "Mounted at /content/drive\n"
          ],
          "name": "stdout"
        }
      ]
    },
    {
      "cell_type": "code",
      "metadata": {
        "colab": {
          "base_uri": "https://localhost:8080/"
        },
        "id": "cEg80LsiSbms",
        "outputId": "cd195d65-6244-4d55-9a77-5db5e99bc07d"
      },
      "source": [
        "model = load_model('/content/drive/MyDrive/Colab Notebooks/Submission 10/washingfeet_Xcep_sub10.h5') #this .h5 model file is also avaliable on my github.tamu repo\n",
        "#loading trained model\n",
        "print(\"model loaded\")"
      ],
      "execution_count": null,
      "outputs": [
        {
          "output_type": "stream",
          "text": [
            "model loaded\n"
          ],
          "name": "stdout"
        }
      ]
    },
    {
      "cell_type": "code",
      "metadata": {
        "colab": {
          "base_uri": "https://localhost:8080/"
        },
        "id": "Ysja2211StbC",
        "outputId": "4aac2df3-be69-490f-f395-7894e93f9579"
      },
      "source": [
        "def check_model(img, video, model): #this function will check the video with our model, and predict accruacy to produce JSON\n",
        "    #get the video itself\n",
        "    capture = cv2.VideoCapture(img)\n",
        "    # get the video frame per second\n",
        "    fps = capture.get(5) \n",
        "    # get all frames in the video\n",
        "    video_frame = int(capture.get(7)) \n",
        "    # get video length in seconds\n",
        "    length = int(video_frame/fps) \n",
        "    # get the number of predictions our model will make on the test video\n",
        "    num_pred = int(length/2) \n",
        "    # frame per prediction\n",
        "    fpp = video_frame // num_pred\n",
        "    # length per frame\n",
        "    dis = fpp // 15\n",
        "    #count the frames for each 2 second clip\n",
        "    count = 0\n",
        "    pred_count = 1\n",
        "    #some parameters to use in the for loop\n",
        "    pred_time = []\n",
        "    final_frame = []\n",
        "    clips = []\n",
        "    tmp = []\n",
        "\n",
        "    for i in tqdm(range(video_frame)): #iterating over all the frames of the video\n",
        "            #using openCV\n",
        "            ret, frame = capture.read()\n",
        "            count = count + 1\n",
        "\n",
        "            if count == dis:\n",
        "                count = count * 0\n",
        "                frame=cv2.resize(frame,(150,150),interpolation=cv2.INTER_AREA)\n",
        "                tmp.append(frame)\n",
        "                final_frame.append(frame)\n",
        "                \n",
        "            if i == ((pred_count * fpp) - 1):\n",
        "                inpt = np.array(tmp)\n",
        "                inpt = inpt.astype('float32')\n",
        "                inpt -= np.mean(inpt)\n",
        "                inpt /= np.max(inpt)\n",
        "                tmp = []\n",
        "                data = np.expand_dims(inpt, axis=0)\n",
        "                pred = model.predict(data, batch_size = 1) # verbose = 1\n",
        "                rate = pred[0][1] #prediction score stored\n",
        "                time_init = (pred_count - 1) / 0.5 #start time\n",
        "                time_end = pred_count / 0.5  # end time\n",
        "                #produce JSON file\n",
        "                if rate > 0.8: #if prediction score better than 80%, add in the JSON file\n",
        "                    time_result = ['Target: ' +  str(time_init) + 'secs - ' + str(time_end) + 'secs.']\n",
        "                    json_format = {\n",
        "                        'videoId': \"RLihptVh0SY\",\n",
        "                        'type': \"segment\",\n",
        "                        'startTime': np.float(time_init),\n",
        "                        'endTime': np.float(time_end),\n",
        "                        'observer': 'CSCE636Spring2021-heswaggy-10',\n",
        "                        'isHuman': False,\n",
        "                        'confirmedBySomeone': False,\n",
        "                        'rejectedBySomeone': False,\n",
        "                        'observation': {\n",
        "                            'label': 'Washing feet',\n",
        "                            'labelConfidence': np.float(rate)\n",
        "                        }\n",
        "                    }\n",
        "                    clips.append(json_format)\n",
        "                else:\n",
        "                    time_result = ['Others: ' +  str(time_init) + 'secs - ' + str(time_end) + 'secs.']\n",
        "                pred_count += 1\n",
        "                pred_time.append(time_result)\n",
        "\n",
        "            if cv2.waitKey(1) & 0xFF == ord('q'):\n",
        "                break\n",
        "\n",
        "    capture.release()\n",
        "    cv2.destroyAllWindows()\n",
        "\n",
        "    with open(video, 'w', encoding='utf-8') as f:\n",
        "        json.dump(clips, f, indent=4)\n",
        "    return final_frame\n",
        "\n",
        "print(\"finished\")"
      ],
      "execution_count": null,
      "outputs": [
        {
          "output_type": "stream",
          "text": [
            "finished\n"
          ],
          "name": "stdout"
        }
      ]
    },
    {
      "cell_type": "code",
      "metadata": {
        "id": "5J7aGpv_xqUH"
      },
      "source": [
        "!mkdir ResultOfDetection"
      ],
      "execution_count": null,
      "outputs": []
    },
    {
      "cell_type": "code",
      "metadata": {
        "colab": {
          "base_uri": "https://localhost:8080/",
          "height": 105,
          "referenced_widgets": [
            "f3a47f315df148f4ba3ced4b348d2905",
            "0f70e511ab7840018049dd63b14fb147",
            "bdab9c8483b043ab9d11a89df3a03d1a",
            "e642f33fb5ed44099b84b85b515f4407",
            "abca4d3100f84a8d82108ae0a0655258",
            "09306019027a4188b3fbfb06e0f43520",
            "ecf5b30e9bb5474eadcdc9cf42ecbf67",
            "7dbbcaedeeed42c08285f2f48d283321"
          ]
        },
        "id": "5TkbNVmIUl-c",
        "outputId": "adb76878-ed46-4b31-ae7e-51b6e8123020"
      },
      "source": [
        "final_frame = check_model('/content/applyvideos/video.16.mp4', '/content/ResultOfDetection/ResultOfDetection.16.json', model)"
      ],
      "execution_count": null,
      "outputs": [
        {
          "output_type": "display_data",
          "data": {
            "application/vnd.jupyter.widget-view+json": {
              "model_id": "f3a47f315df148f4ba3ced4b348d2905",
              "version_minor": 0,
              "version_major": 2
            },
            "text/plain": [
              "HBox(children=(FloatProgress(value=0.0, max=42710.0), HTML(value='')))"
            ]
          },
          "metadata": {
            "tags": []
          }
        },
        {
          "output_type": "stream",
          "text": [
            "WARNING:tensorflow:Model was constructed with shape (None, 5, 150, 150, 3) for input KerasTensor(type_spec=TensorSpec(shape=(None, 5, 150, 150, 3), dtype=tf.float32, name='time_distributed_input'), name='time_distributed_input', description=\"created by layer 'time_distributed_input'\"), but it was called on an input with incompatible shape (1, 15, 150, 150, 3).\n",
            "\n"
          ],
          "name": "stdout"
        }
      ]
    },
    {
      "cell_type": "code",
      "metadata": {
        "id": "tdeLzEh9BoNC"
      },
      "source": [
        "!cp -a '/content/ResultOfDetection/' '/content/drive/MyDrive/Colab Notebooks/Submission 10'"
      ],
      "execution_count": null,
      "outputs": []
    }
  ]
}