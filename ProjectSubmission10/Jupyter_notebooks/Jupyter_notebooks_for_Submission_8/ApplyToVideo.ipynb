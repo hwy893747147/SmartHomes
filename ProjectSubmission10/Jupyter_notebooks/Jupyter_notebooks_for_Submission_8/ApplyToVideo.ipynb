{
  "nbformat": 4,
  "nbformat_minor": 0,
  "metadata": {
    "colab": {
      "name": "Sub8ApplyVideo.ipynb",
      "provenance": [],
      "collapsed_sections": []
    },
    "kernelspec": {
      "name": "python3",
      "display_name": "Python 3"
    },
    "accelerator": "GPU",
    "widgets": {
      "application/vnd.jupyter.widget-state+json": {
        "f24f6d011dd5463797918372c5204c83": {
          "model_module": "@jupyter-widgets/controls",
          "model_name": "HBoxModel",
          "state": {
            "_view_name": "HBoxView",
            "_dom_classes": [],
            "_model_name": "HBoxModel",
            "_view_module": "@jupyter-widgets/controls",
            "_model_module_version": "1.5.0",
            "_view_count": null,
            "_view_module_version": "1.5.0",
            "box_style": "",
            "layout": "IPY_MODEL_335e2bc69e354da3bfad7c69eeb6fa9f",
            "_model_module": "@jupyter-widgets/controls",
            "children": [
              "IPY_MODEL_8107bd5aa4b64c67aafb48a6e2608155",
              "IPY_MODEL_7dacd63582d144e3b3b52c76a7a2f3c1"
            ]
          }
        },
        "335e2bc69e354da3bfad7c69eeb6fa9f": {
          "model_module": "@jupyter-widgets/base",
          "model_name": "LayoutModel",
          "state": {
            "_view_name": "LayoutView",
            "grid_template_rows": null,
            "right": null,
            "justify_content": null,
            "_view_module": "@jupyter-widgets/base",
            "overflow": null,
            "_model_module_version": "1.2.0",
            "_view_count": null,
            "flex_flow": null,
            "width": null,
            "min_width": null,
            "border": null,
            "align_items": null,
            "bottom": null,
            "_model_module": "@jupyter-widgets/base",
            "top": null,
            "grid_column": null,
            "overflow_y": null,
            "overflow_x": null,
            "grid_auto_flow": null,
            "grid_area": null,
            "grid_template_columns": null,
            "flex": null,
            "_model_name": "LayoutModel",
            "justify_items": null,
            "grid_row": null,
            "max_height": null,
            "align_content": null,
            "visibility": null,
            "align_self": null,
            "height": null,
            "min_height": null,
            "padding": null,
            "grid_auto_rows": null,
            "grid_gap": null,
            "max_width": null,
            "order": null,
            "_view_module_version": "1.2.0",
            "grid_template_areas": null,
            "object_position": null,
            "object_fit": null,
            "grid_auto_columns": null,
            "margin": null,
            "display": null,
            "left": null
          }
        },
        "8107bd5aa4b64c67aafb48a6e2608155": {
          "model_module": "@jupyter-widgets/controls",
          "model_name": "FloatProgressModel",
          "state": {
            "_view_name": "ProgressView",
            "style": "IPY_MODEL_ad22422497fa40b68bd90b0e76ad42b2",
            "_dom_classes": [],
            "description": "100%",
            "_model_name": "FloatProgressModel",
            "bar_style": "success",
            "max": 66416,
            "_view_module": "@jupyter-widgets/controls",
            "_model_module_version": "1.5.0",
            "value": 66416,
            "_view_count": null,
            "_view_module_version": "1.5.0",
            "orientation": "horizontal",
            "min": 0,
            "description_tooltip": null,
            "_model_module": "@jupyter-widgets/controls",
            "layout": "IPY_MODEL_3ef4e1c29c6c4e8c9ae9fcd06dcaf13a"
          }
        },
        "7dacd63582d144e3b3b52c76a7a2f3c1": {
          "model_module": "@jupyter-widgets/controls",
          "model_name": "HTMLModel",
          "state": {
            "_view_name": "HTMLView",
            "style": "IPY_MODEL_e426ea94c96542abb400517dcf5a2966",
            "_dom_classes": [],
            "description": "",
            "_model_name": "HTMLModel",
            "placeholder": "​",
            "_view_module": "@jupyter-widgets/controls",
            "_model_module_version": "1.5.0",
            "value": " 66416/66416 [07:21&lt;00:00, 150.50it/s]",
            "_view_count": null,
            "_view_module_version": "1.5.0",
            "description_tooltip": null,
            "_model_module": "@jupyter-widgets/controls",
            "layout": "IPY_MODEL_7f46a6e9ba4b4c6f8a513583184d03be"
          }
        },
        "ad22422497fa40b68bd90b0e76ad42b2": {
          "model_module": "@jupyter-widgets/controls",
          "model_name": "ProgressStyleModel",
          "state": {
            "_view_name": "StyleView",
            "_model_name": "ProgressStyleModel",
            "description_width": "initial",
            "_view_module": "@jupyter-widgets/base",
            "_model_module_version": "1.5.0",
            "_view_count": null,
            "_view_module_version": "1.2.0",
            "bar_color": null,
            "_model_module": "@jupyter-widgets/controls"
          }
        },
        "3ef4e1c29c6c4e8c9ae9fcd06dcaf13a": {
          "model_module": "@jupyter-widgets/base",
          "model_name": "LayoutModel",
          "state": {
            "_view_name": "LayoutView",
            "grid_template_rows": null,
            "right": null,
            "justify_content": null,
            "_view_module": "@jupyter-widgets/base",
            "overflow": null,
            "_model_module_version": "1.2.0",
            "_view_count": null,
            "flex_flow": null,
            "width": null,
            "min_width": null,
            "border": null,
            "align_items": null,
            "bottom": null,
            "_model_module": "@jupyter-widgets/base",
            "top": null,
            "grid_column": null,
            "overflow_y": null,
            "overflow_x": null,
            "grid_auto_flow": null,
            "grid_area": null,
            "grid_template_columns": null,
            "flex": null,
            "_model_name": "LayoutModel",
            "justify_items": null,
            "grid_row": null,
            "max_height": null,
            "align_content": null,
            "visibility": null,
            "align_self": null,
            "height": null,
            "min_height": null,
            "padding": null,
            "grid_auto_rows": null,
            "grid_gap": null,
            "max_width": null,
            "order": null,
            "_view_module_version": "1.2.0",
            "grid_template_areas": null,
            "object_position": null,
            "object_fit": null,
            "grid_auto_columns": null,
            "margin": null,
            "display": null,
            "left": null
          }
        },
        "e426ea94c96542abb400517dcf5a2966": {
          "model_module": "@jupyter-widgets/controls",
          "model_name": "DescriptionStyleModel",
          "state": {
            "_view_name": "StyleView",
            "_model_name": "DescriptionStyleModel",
            "description_width": "",
            "_view_module": "@jupyter-widgets/base",
            "_model_module_version": "1.5.0",
            "_view_count": null,
            "_view_module_version": "1.2.0",
            "_model_module": "@jupyter-widgets/controls"
          }
        },
        "7f46a6e9ba4b4c6f8a513583184d03be": {
          "model_module": "@jupyter-widgets/base",
          "model_name": "LayoutModel",
          "state": {
            "_view_name": "LayoutView",
            "grid_template_rows": null,
            "right": null,
            "justify_content": null,
            "_view_module": "@jupyter-widgets/base",
            "overflow": null,
            "_model_module_version": "1.2.0",
            "_view_count": null,
            "flex_flow": null,
            "width": null,
            "min_width": null,
            "border": null,
            "align_items": null,
            "bottom": null,
            "_model_module": "@jupyter-widgets/base",
            "top": null,
            "grid_column": null,
            "overflow_y": null,
            "overflow_x": null,
            "grid_auto_flow": null,
            "grid_area": null,
            "grid_template_columns": null,
            "flex": null,
            "_model_name": "LayoutModel",
            "justify_items": null,
            "grid_row": null,
            "max_height": null,
            "align_content": null,
            "visibility": null,
            "align_self": null,
            "height": null,
            "min_height": null,
            "padding": null,
            "grid_auto_rows": null,
            "grid_gap": null,
            "max_width": null,
            "order": null,
            "_view_module_version": "1.2.0",
            "grid_template_areas": null,
            "object_position": null,
            "object_fit": null,
            "grid_auto_columns": null,
            "margin": null,
            "display": null,
            "left": null
          }
        }
      }
    }
  },
  "cells": [
    {
      "cell_type": "markdown",
      "metadata": {
        "id": "cyB4hgouc-5p"
      },
      "source": [
        "# Student Information"
      ]
    },
    {
      "cell_type": "markdown",
      "metadata": {
        "id": "oyPVnX0-dEGi"
      },
      "source": [
        "Wangyang He\n"
      ]
    },
    {
      "cell_type": "markdown",
      "metadata": {
        "id": "HqGgKS4EdLaS"
      },
      "source": [
        "UIN 625004872\n"
      ]
    },
    {
      "cell_type": "markdown",
      "metadata": {
        "id": "UWrVJV2EdNEn"
      },
      "source": [
        "Nickname: heswaggy"
      ]
    },
    {
      "cell_type": "markdown",
      "metadata": {
        "id": "rA4IivWQgpb8"
      },
      "source": [
        "Project submission 8"
      ]
    },
    {
      "cell_type": "code",
      "metadata": {
        "id": "b3Vkrrt0ODY5"
      },
      "source": [
        "import os\n",
        "import numpy as np\n",
        "import cv2\n",
        "import json\n",
        "import keras\n",
        "from keras.models import load_model\n",
        "from tqdm.notebook import tqdm"
      ],
      "execution_count": 1,
      "outputs": []
    },
    {
      "cell_type": "code",
      "metadata": {
        "colab": {
          "base_uri": "https://localhost:8080/"
        },
        "id": "DKwSqd0OOTmr",
        "outputId": "eddf851b-0729-4b78-c1b7-d51f6ad829db"
      },
      "source": [
        "!pip install --upgrade youtube_dl"
      ],
      "execution_count": 2,
      "outputs": [
        {
          "output_type": "stream",
          "text": [
            "Collecting youtube_dl\n",
            "\u001b[?25l  Downloading https://files.pythonhosted.org/packages/4a/cb/829848d3f15e63e51f1a1c874c2151690c2365dd95d7507c995531a28efb/youtube_dl-2021.4.7-py2.py3-none-any.whl (1.9MB)\n",
            "\r\u001b[K     |▏                               | 10kB 15.7MB/s eta 0:00:01\r\u001b[K     |▍                               | 20kB 21.4MB/s eta 0:00:01\r\u001b[K     |▌                               | 30kB 19.1MB/s eta 0:00:01\r\u001b[K     |▊                               | 40kB 15.7MB/s eta 0:00:01\r\u001b[K     |▉                               | 51kB 7.6MB/s eta 0:00:01\r\u001b[K     |█                               | 61kB 8.5MB/s eta 0:00:01\r\u001b[K     |█▏                              | 71kB 8.1MB/s eta 0:00:01\r\u001b[K     |█▍                              | 81kB 9.0MB/s eta 0:00:01\r\u001b[K     |█▌                              | 92kB 9.5MB/s eta 0:00:01\r\u001b[K     |█▊                              | 102kB 7.4MB/s eta 0:00:01\r\u001b[K     |██                              | 112kB 7.4MB/s eta 0:00:01\r\u001b[K     |██                              | 122kB 7.4MB/s eta 0:00:01\r\u001b[K     |██▎                             | 133kB 7.4MB/s eta 0:00:01\r\u001b[K     |██▍                             | 143kB 7.4MB/s eta 0:00:01\r\u001b[K     |██▋                             | 153kB 7.4MB/s eta 0:00:01\r\u001b[K     |██▊                             | 163kB 7.4MB/s eta 0:00:01\r\u001b[K     |███                             | 174kB 7.4MB/s eta 0:00:01\r\u001b[K     |███                             | 184kB 7.4MB/s eta 0:00:01\r\u001b[K     |███▎                            | 194kB 7.4MB/s eta 0:00:01\r\u001b[K     |███▌                            | 204kB 7.4MB/s eta 0:00:01\r\u001b[K     |███▋                            | 215kB 7.4MB/s eta 0:00:01\r\u001b[K     |███▉                            | 225kB 7.4MB/s eta 0:00:01\r\u001b[K     |████                            | 235kB 7.4MB/s eta 0:00:01\r\u001b[K     |████▏                           | 245kB 7.4MB/s eta 0:00:01\r\u001b[K     |████▎                           | 256kB 7.4MB/s eta 0:00:01\r\u001b[K     |████▌                           | 266kB 7.4MB/s eta 0:00:01\r\u001b[K     |████▋                           | 276kB 7.4MB/s eta 0:00:01\r\u001b[K     |████▉                           | 286kB 7.4MB/s eta 0:00:01\r\u001b[K     |█████                           | 296kB 7.4MB/s eta 0:00:01\r\u001b[K     |█████▏                          | 307kB 7.4MB/s eta 0:00:01\r\u001b[K     |█████▍                          | 317kB 7.4MB/s eta 0:00:01\r\u001b[K     |█████▌                          | 327kB 7.4MB/s eta 0:00:01\r\u001b[K     |█████▊                          | 337kB 7.4MB/s eta 0:00:01\r\u001b[K     |█████▉                          | 348kB 7.4MB/s eta 0:00:01\r\u001b[K     |██████                          | 358kB 7.4MB/s eta 0:00:01\r\u001b[K     |██████▏                         | 368kB 7.4MB/s eta 0:00:01\r\u001b[K     |██████▍                         | 378kB 7.4MB/s eta 0:00:01\r\u001b[K     |██████▋                         | 389kB 7.4MB/s eta 0:00:01\r\u001b[K     |██████▊                         | 399kB 7.4MB/s eta 0:00:01\r\u001b[K     |███████                         | 409kB 7.4MB/s eta 0:00:01\r\u001b[K     |███████                         | 419kB 7.4MB/s eta 0:00:01\r\u001b[K     |███████▎                        | 430kB 7.4MB/s eta 0:00:01\r\u001b[K     |███████▍                        | 440kB 7.4MB/s eta 0:00:01\r\u001b[K     |███████▋                        | 450kB 7.4MB/s eta 0:00:01\r\u001b[K     |███████▊                        | 460kB 7.4MB/s eta 0:00:01\r\u001b[K     |████████                        | 471kB 7.4MB/s eta 0:00:01\r\u001b[K     |████████▏                       | 481kB 7.4MB/s eta 0:00:01\r\u001b[K     |████████▎                       | 491kB 7.4MB/s eta 0:00:01\r\u001b[K     |████████▌                       | 501kB 7.4MB/s eta 0:00:01\r\u001b[K     |████████▋                       | 512kB 7.4MB/s eta 0:00:01\r\u001b[K     |████████▉                       | 522kB 7.4MB/s eta 0:00:01\r\u001b[K     |█████████                       | 532kB 7.4MB/s eta 0:00:01\r\u001b[K     |█████████▏                      | 542kB 7.4MB/s eta 0:00:01\r\u001b[K     |█████████▎                      | 552kB 7.4MB/s eta 0:00:01\r\u001b[K     |█████████▌                      | 563kB 7.4MB/s eta 0:00:01\r\u001b[K     |█████████▋                      | 573kB 7.4MB/s eta 0:00:01\r\u001b[K     |█████████▉                      | 583kB 7.4MB/s eta 0:00:01\r\u001b[K     |██████████                      | 593kB 7.4MB/s eta 0:00:01\r\u001b[K     |██████████▏                     | 604kB 7.4MB/s eta 0:00:01\r\u001b[K     |██████████▍                     | 614kB 7.4MB/s eta 0:00:01\r\u001b[K     |██████████▌                     | 624kB 7.4MB/s eta 0:00:01\r\u001b[K     |██████████▊                     | 634kB 7.4MB/s eta 0:00:01\r\u001b[K     |██████████▉                     | 645kB 7.4MB/s eta 0:00:01\r\u001b[K     |███████████                     | 655kB 7.4MB/s eta 0:00:01\r\u001b[K     |███████████▏                    | 665kB 7.4MB/s eta 0:00:01\r\u001b[K     |███████████▍                    | 675kB 7.4MB/s eta 0:00:01\r\u001b[K     |███████████▋                    | 686kB 7.4MB/s eta 0:00:01\r\u001b[K     |███████████▊                    | 696kB 7.4MB/s eta 0:00:01\r\u001b[K     |████████████                    | 706kB 7.4MB/s eta 0:00:01\r\u001b[K     |████████████                    | 716kB 7.4MB/s eta 0:00:01\r\u001b[K     |████████████▎                   | 727kB 7.4MB/s eta 0:00:01\r\u001b[K     |████████████▍                   | 737kB 7.4MB/s eta 0:00:01\r\u001b[K     |████████████▋                   | 747kB 7.4MB/s eta 0:00:01\r\u001b[K     |████████████▊                   | 757kB 7.4MB/s eta 0:00:01\r\u001b[K     |█████████████                   | 768kB 7.4MB/s eta 0:00:01\r\u001b[K     |█████████████▏                  | 778kB 7.4MB/s eta 0:00:01\r\u001b[K     |█████████████▎                  | 788kB 7.4MB/s eta 0:00:01\r\u001b[K     |█████████████▌                  | 798kB 7.4MB/s eta 0:00:01\r\u001b[K     |█████████████▋                  | 808kB 7.4MB/s eta 0:00:01\r\u001b[K     |█████████████▉                  | 819kB 7.4MB/s eta 0:00:01\r\u001b[K     |██████████████                  | 829kB 7.4MB/s eta 0:00:01\r\u001b[K     |██████████████▏                 | 839kB 7.4MB/s eta 0:00:01\r\u001b[K     |██████████████▎                 | 849kB 7.4MB/s eta 0:00:01\r\u001b[K     |██████████████▌                 | 860kB 7.4MB/s eta 0:00:01\r\u001b[K     |██████████████▊                 | 870kB 7.4MB/s eta 0:00:01\r\u001b[K     |██████████████▉                 | 880kB 7.4MB/s eta 0:00:01\r\u001b[K     |███████████████                 | 890kB 7.4MB/s eta 0:00:01\r\u001b[K     |███████████████▏                | 901kB 7.4MB/s eta 0:00:01\r\u001b[K     |███████████████▍                | 911kB 7.4MB/s eta 0:00:01\r\u001b[K     |███████████████▌                | 921kB 7.4MB/s eta 0:00:01\r\u001b[K     |███████████████▊                | 931kB 7.4MB/s eta 0:00:01\r\u001b[K     |███████████████▉                | 942kB 7.4MB/s eta 0:00:01\r\u001b[K     |████████████████                | 952kB 7.4MB/s eta 0:00:01\r\u001b[K     |████████████████▎               | 962kB 7.4MB/s eta 0:00:01\r\u001b[K     |████████████████▍               | 972kB 7.4MB/s eta 0:00:01\r\u001b[K     |████████████████▋               | 983kB 7.4MB/s eta 0:00:01\r\u001b[K     |████████████████▊               | 993kB 7.4MB/s eta 0:00:01\r\u001b[K     |█████████████████               | 1.0MB 7.4MB/s eta 0:00:01\r\u001b[K     |█████████████████               | 1.0MB 7.4MB/s eta 0:00:01\r\u001b[K     |█████████████████▎              | 1.0MB 7.4MB/s eta 0:00:01\r\u001b[K     |█████████████████▍              | 1.0MB 7.4MB/s eta 0:00:01\r\u001b[K     |█████████████████▋              | 1.0MB 7.4MB/s eta 0:00:01\r\u001b[K     |█████████████████▊              | 1.1MB 7.4MB/s eta 0:00:01\r\u001b[K     |██████████████████              | 1.1MB 7.4MB/s eta 0:00:01\r\u001b[K     |██████████████████▏             | 1.1MB 7.4MB/s eta 0:00:01\r\u001b[K     |██████████████████▎             | 1.1MB 7.4MB/s eta 0:00:01\r\u001b[K     |██████████████████▌             | 1.1MB 7.4MB/s eta 0:00:01\r\u001b[K     |██████████████████▋             | 1.1MB 7.4MB/s eta 0:00:01\r\u001b[K     |██████████████████▉             | 1.1MB 7.4MB/s eta 0:00:01\r\u001b[K     |███████████████████             | 1.1MB 7.4MB/s eta 0:00:01\r\u001b[K     |███████████████████▏            | 1.1MB 7.4MB/s eta 0:00:01\r\u001b[K     |███████████████████▎            | 1.1MB 7.4MB/s eta 0:00:01\r\u001b[K     |███████████████████▌            | 1.2MB 7.4MB/s eta 0:00:01\r\u001b[K     |███████████████████▊            | 1.2MB 7.4MB/s eta 0:00:01\r\u001b[K     |███████████████████▉            | 1.2MB 7.4MB/s eta 0:00:01\r\u001b[K     |████████████████████            | 1.2MB 7.4MB/s eta 0:00:01\r\u001b[K     |████████████████████▏           | 1.2MB 7.4MB/s eta 0:00:01\r\u001b[K     |████████████████████▍           | 1.2MB 7.4MB/s eta 0:00:01\r\u001b[K     |████████████████████▌           | 1.2MB 7.4MB/s eta 0:00:01\r\u001b[K     |████████████████████▊           | 1.2MB 7.4MB/s eta 0:00:01\r\u001b[K     |████████████████████▉           | 1.2MB 7.4MB/s eta 0:00:01\r\u001b[K     |█████████████████████           | 1.2MB 7.4MB/s eta 0:00:01\r\u001b[K     |█████████████████████▎          | 1.3MB 7.4MB/s eta 0:00:01\r\u001b[K     |█████████████████████▍          | 1.3MB 7.4MB/s eta 0:00:01\r\u001b[K     |█████████████████████▋          | 1.3MB 7.4MB/s eta 0:00:01\r\u001b[K     |█████████████████████▊          | 1.3MB 7.4MB/s eta 0:00:01\r\u001b[K     |██████████████████████          | 1.3MB 7.4MB/s eta 0:00:01\r\u001b[K     |██████████████████████          | 1.3MB 7.4MB/s eta 0:00:01\r\u001b[K     |██████████████████████▎         | 1.3MB 7.4MB/s eta 0:00:01\r\u001b[K     |██████████████████████▍         | 1.3MB 7.4MB/s eta 0:00:01\r\u001b[K     |██████████████████████▋         | 1.3MB 7.4MB/s eta 0:00:01\r\u001b[K     |██████████████████████▉         | 1.4MB 7.4MB/s eta 0:00:01\r\u001b[K     |███████████████████████         | 1.4MB 7.4MB/s eta 0:00:01\r\u001b[K     |███████████████████████▏        | 1.4MB 7.4MB/s eta 0:00:01\r\u001b[K     |███████████████████████▎        | 1.4MB 7.4MB/s eta 0:00:01\r\u001b[K     |███████████████████████▌        | 1.4MB 7.4MB/s eta 0:00:01\r\u001b[K     |███████████████████████▋        | 1.4MB 7.4MB/s eta 0:00:01\r\u001b[K     |███████████████████████▉        | 1.4MB 7.4MB/s eta 0:00:01\r\u001b[K     |████████████████████████        | 1.4MB 7.4MB/s eta 0:00:01\r\u001b[K     |████████████████████████▏       | 1.4MB 7.4MB/s eta 0:00:01\r\u001b[K     |████████████████████████▍       | 1.4MB 7.4MB/s eta 0:00:01\r\u001b[K     |████████████████████████▌       | 1.5MB 7.4MB/s eta 0:00:01\r\u001b[K     |████████████████████████▊       | 1.5MB 7.4MB/s eta 0:00:01\r\u001b[K     |████████████████████████▉       | 1.5MB 7.4MB/s eta 0:00:01\r\u001b[K     |█████████████████████████       | 1.5MB 7.4MB/s eta 0:00:01\r\u001b[K     |█████████████████████████▏      | 1.5MB 7.4MB/s eta 0:00:01\r\u001b[K     |█████████████████████████▍      | 1.5MB 7.4MB/s eta 0:00:01\r\u001b[K     |█████████████████████████▌      | 1.5MB 7.4MB/s eta 0:00:01\r\u001b[K     |█████████████████████████▊      | 1.5MB 7.4MB/s eta 0:00:01\r\u001b[K     |██████████████████████████      | 1.5MB 7.4MB/s eta 0:00:01\r\u001b[K     |██████████████████████████      | 1.5MB 7.4MB/s eta 0:00:01\r\u001b[K     |██████████████████████████▎     | 1.6MB 7.4MB/s eta 0:00:01\r\u001b[K     |██████████████████████████▍     | 1.6MB 7.4MB/s eta 0:00:01\r\u001b[K     |██████████████████████████▋     | 1.6MB 7.4MB/s eta 0:00:01\r\u001b[K     |██████████████████████████▊     | 1.6MB 7.4MB/s eta 0:00:01\r\u001b[K     |███████████████████████████     | 1.6MB 7.4MB/s eta 0:00:01\r\u001b[K     |███████████████████████████     | 1.6MB 7.4MB/s eta 0:00:01\r\u001b[K     |███████████████████████████▎    | 1.6MB 7.4MB/s eta 0:00:01\r\u001b[K     |███████████████████████████▍    | 1.6MB 7.4MB/s eta 0:00:01\r\u001b[K     |███████████████████████████▋    | 1.6MB 7.4MB/s eta 0:00:01\r\u001b[K     |███████████████████████████▉    | 1.6MB 7.4MB/s eta 0:00:01\r\u001b[K     |████████████████████████████    | 1.7MB 7.4MB/s eta 0:00:01\r\u001b[K     |████████████████████████████▏   | 1.7MB 7.4MB/s eta 0:00:01\r\u001b[K     |████████████████████████████▎   | 1.7MB 7.4MB/s eta 0:00:01\r\u001b[K     |████████████████████████████▌   | 1.7MB 7.4MB/s eta 0:00:01\r\u001b[K     |████████████████████████████▋   | 1.7MB 7.4MB/s eta 0:00:01\r\u001b[K     |████████████████████████████▉   | 1.7MB 7.4MB/s eta 0:00:01\r\u001b[K     |█████████████████████████████   | 1.7MB 7.4MB/s eta 0:00:01\r\u001b[K     |█████████████████████████████▏  | 1.7MB 7.4MB/s eta 0:00:01\r\u001b[K     |█████████████████████████████▍  | 1.7MB 7.4MB/s eta 0:00:01\r\u001b[K     |█████████████████████████████▌  | 1.8MB 7.4MB/s eta 0:00:01\r\u001b[K     |█████████████████████████████▊  | 1.8MB 7.4MB/s eta 0:00:01\r\u001b[K     |█████████████████████████████▉  | 1.8MB 7.4MB/s eta 0:00:01\r\u001b[K     |██████████████████████████████  | 1.8MB 7.4MB/s eta 0:00:01\r\u001b[K     |██████████████████████████████▏ | 1.8MB 7.4MB/s eta 0:00:01\r\u001b[K     |██████████████████████████████▍ | 1.8MB 7.4MB/s eta 0:00:01\r\u001b[K     |██████████████████████████████▌ | 1.8MB 7.4MB/s eta 0:00:01\r\u001b[K     |██████████████████████████████▊ | 1.8MB 7.4MB/s eta 0:00:01\r\u001b[K     |███████████████████████████████ | 1.8MB 7.4MB/s eta 0:00:01\r\u001b[K     |███████████████████████████████ | 1.8MB 7.4MB/s eta 0:00:01\r\u001b[K     |███████████████████████████████▎| 1.9MB 7.4MB/s eta 0:00:01\r\u001b[K     |███████████████████████████████▍| 1.9MB 7.4MB/s eta 0:00:01\r\u001b[K     |███████████████████████████████▋| 1.9MB 7.4MB/s eta 0:00:01\r\u001b[K     |███████████████████████████████▊| 1.9MB 7.4MB/s eta 0:00:01\r\u001b[K     |████████████████████████████████| 1.9MB 7.4MB/s eta 0:00:01\r\u001b[K     |████████████████████████████████| 1.9MB 7.4MB/s \n",
            "\u001b[?25hInstalling collected packages: youtube-dl\n",
            "Successfully installed youtube-dl-2021.4.7\n"
          ],
          "name": "stdout"
        }
      ]
    },
    {
      "cell_type": "code",
      "metadata": {
        "id": "hJJyYN2nOd9h"
      },
      "source": [
        "test_videos = '/content/applyvideos'\n",
        "os.mkdir(test_videos)"
      ],
      "execution_count": 3,
      "outputs": []
    },
    {
      "cell_type": "code",
      "metadata": {
        "colab": {
          "base_uri": "https://localhost:8080/"
        },
        "id": "HUAgPFW1PSdb",
        "outputId": "cd1e7a45-b60f-4f1e-b962-35459005a443"
      },
      "source": [
        "import datetime\n",
        "import youtube_dl, subprocess\n",
        "\n",
        "#these are the videos link to test, uncomment to download them\n",
        "urls = [\n",
        "        'https://www.youtube.com/watch?v=0v7Xlfa3twQ',\n",
        "        'https://www.youtube.com/watch?v=9WnikBwAl_I',\n",
        "        'https://www.youtube.com/watch?v=6aPs5cbPhQE',\n",
        "        'https://www.youtube.com/watch?v=ieZE7z-0Pqw',\n",
        "        'https://www.youtube.com/watch?v=kRJLUss-j3M',\n",
        "        'https://www.youtube.com/watch?v=P0_kOnzbPqo',\n",
        "        'https://www.youtube.com/watch?v=TKad2bvgmaA',\n",
        "        'https://www.youtube.com/watch?v=Ti9n0GWocGA',\n",
        "        'https://www.youtube.com/watch?v=muBQhnLYoss',\n",
        "        'https://www.youtube.com/watch?v=BGNwDYw4I-Y',\n",
        "        'https://www.youtube.com/watch?v=W7rDhoCopJg',\n",
        "        'https://www.youtube.com/watch?v=oA6Ijr-wBvk',\n",
        "        'https://www.youtube.com/watch?v=IN_F50hYSg4',\n",
        "        'https://www.youtube.com/watch?v=6Whibi7bfdw',\n",
        "        'https://www.youtube.com/watch?v=998jG2ZZZUo',\n",
        "        'https://www.youtube.com/watch?v=9xrTKKbekpo',\n",
        "        'https://www.youtube.com/watch?v=CAtIHCWuebU',\n",
        "        'https://www.youtube.com/watch?v=F4B6FGw0E4o',\n",
        "        'https://www.youtube.com/watch?v=SKsOFQYlRmU',\n",
        "        'https://www.youtube.com/watch?v=qAxtUoSALYA',\n",
        "        'https://www.youtube.com/watch?v=K7XiEU8yivM',\n",
        "        'https://www.youtube.com/watch?v=O4xYK0K4SIU',\n",
        "        'https://www.youtube.com/watch?v=mJ10n8F1_TI',\n",
        "        'https://www.youtube.com/watch?v=cFCXp_pOPiM',\n",
        "        'https://www.youtube.com/watch?v=4GrCQujMrwY',\n",
        "        'https://www.youtube.com/watch?v=i5pKumDDgPo'\n",
        "         ]\n",
        "\n",
        "for i, id in enumerate(urls):\n",
        "  #save videos to the folder we created above\n",
        "  true = os.path.join(test_videos,\"video.{}.mp4\".format(i))\n",
        "  #download videos\n",
        "  with youtube_dl.YoutubeDL({'format': 'best'}) as ydl:\n",
        "    try:\n",
        "      info = ydl.extract_info(id, download=False)\n",
        "      video = info['entries'][0] if 'entries' in info else info\n",
        "    except:\n",
        "      continue\n",
        "  #parameters\n",
        "  url = video['url']\n",
        "  starttime = datetime.timedelta(seconds=0)\n",
        "  clip_length = datetime.timedelta(seconds=9999)\n",
        "  subprocess.call(['ffmpeg', '-i', url, '-ss', str(starttime), '-t', str(clip_length), \n",
        "                   '-c:v', 'copy', '-c:a', 'copy', true,]) \n",
        "  print(\"finished downloading\")"
      ],
      "execution_count": 5,
      "outputs": [
        {
          "output_type": "stream",
          "text": [
            "[youtube] 0v7Xlfa3twQ: Downloading webpage\n",
            "finished downloading\n",
            "[youtube] 9WnikBwAl_I: Downloading webpage\n",
            "finished downloading\n",
            "[youtube] 6aPs5cbPhQE: Downloading webpage\n",
            "finished downloading\n",
            "[youtube] ieZE7z-0Pqw: Downloading webpage\n",
            "finished downloading\n",
            "[youtube] kRJLUss-j3M: Downloading webpage\n",
            "[youtube] kRJLUss-j3M: Downloading MPD manifest\n",
            "finished downloading\n",
            "[youtube] P0_kOnzbPqo: Downloading webpage\n",
            "finished downloading\n",
            "[youtube] TKad2bvgmaA: Downloading webpage\n",
            "finished downloading\n",
            "[youtube] Ti9n0GWocGA: Downloading webpage\n",
            "[youtube] Ti9n0GWocGA: Downloading MPD manifest\n",
            "finished downloading\n",
            "[youtube] muBQhnLYoss: Downloading webpage\n",
            "[youtube] muBQhnLYoss: Downloading MPD manifest\n",
            "finished downloading\n",
            "[youtube] BGNwDYw4I-Y: Downloading webpage\n",
            "finished downloading\n",
            "[youtube] W7rDhoCopJg: Downloading webpage\n",
            "finished downloading\n",
            "[youtube] oA6Ijr-wBvk: Downloading webpage\n",
            "finished downloading\n",
            "[youtube] IN_F50hYSg4: Downloading webpage\n",
            "finished downloading\n",
            "[youtube] 6Whibi7bfdw: Downloading webpage\n",
            "finished downloading\n",
            "[youtube] 998jG2ZZZUo: Downloading webpage\n",
            "finished downloading\n",
            "[youtube] 9xrTKKbekpo: Downloading webpage\n",
            "finished downloading\n",
            "[youtube] CAtIHCWuebU: Downloading webpage\n",
            "finished downloading\n",
            "[youtube] F4B6FGw0E4o: Downloading webpage\n",
            "finished downloading\n",
            "[youtube] SKsOFQYlRmU: Downloading webpage\n",
            "finished downloading\n",
            "[youtube] qAxtUoSALYA: Downloading webpage\n",
            "finished downloading\n",
            "[youtube] K7XiEU8yivM: Downloading webpage\n",
            "finished downloading\n",
            "[youtube] O4xYK0K4SIU: Downloading webpage\n",
            "finished downloading\n",
            "[youtube] mJ10n8F1_TI: Downloading webpage\n",
            "finished downloading\n",
            "[youtube] cFCXp_pOPiM: Downloading webpage\n",
            "[youtube] cFCXp_pOPiM: Downloading player 82e684c7\n",
            "finished downloading\n",
            "[youtube] 4GrCQujMrwY: Downloading webpage\n",
            "[youtube] 4GrCQujMrwY: Downloading player 82e684c7\n",
            "finished downloading\n",
            "[youtube] i5pKumDDgPo: Downloading webpage\n",
            "finished downloading\n"
          ],
          "name": "stdout"
        }
      ]
    },
    {
      "cell_type": "code",
      "metadata": {
        "colab": {
          "base_uri": "https://localhost:8080/"
        },
        "id": "yCL8GawEd_sP",
        "outputId": "72ab4407-3c9b-42a2-cfbd-9eb3d4725fc4"
      },
      "source": [
        "from google.colab import drive\n",
        "drive.mount(\"/content/drive\")"
      ],
      "execution_count": 54,
      "outputs": [
        {
          "output_type": "stream",
          "text": [
            "Drive already mounted at /content/drive; to attempt to forcibly remount, call drive.mount(\"/content/drive\", force_remount=True).\n"
          ],
          "name": "stdout"
        }
      ]
    },
    {
      "cell_type": "code",
      "metadata": {
        "colab": {
          "base_uri": "https://localhost:8080/"
        },
        "id": "cEg80LsiSbms",
        "outputId": "4c2a460f-1374-4528-9256-237814c1b7c7"
      },
      "source": [
        "model = load_model('/content/drive/MyDrive/Colab Notebooks/Submission 8/cleaningwindows_Xcep_sub8.h5') #this .h5 model file is also avaliable on my github.tamu repo\n",
        "#loading trained model\n",
        "print(\"model loaded\")"
      ],
      "execution_count": 88,
      "outputs": [
        {
          "output_type": "stream",
          "text": [
            "model loaded\n"
          ],
          "name": "stdout"
        }
      ]
    },
    {
      "cell_type": "code",
      "metadata": {
        "colab": {
          "base_uri": "https://localhost:8080/"
        },
        "id": "Ysja2211StbC",
        "outputId": "9a6dd431-851e-4150-c114-c36758cacac4"
      },
      "source": [
        "def check_model(img, video, model): #this function will check the video with our model, and predict accruacy to produce JSON\n",
        "    #get the video itself\n",
        "    capture = cv2.VideoCapture(img)\n",
        "    # get the video frame per second\n",
        "    fps = capture.get(5) \n",
        "    # get all frames in the video\n",
        "    video_frame = int(capture.get(7)) \n",
        "    # get video length in seconds\n",
        "    length = int(video_frame/fps) \n",
        "    # get the number of predictions our model will make on the test video\n",
        "    num_pred = int(length/2) \n",
        "    # frame per prediction\n",
        "    fpp = video_frame // num_pred\n",
        "    # length per frame\n",
        "    dis = fpp // 15\n",
        "    #count the frames for each 2 second clip\n",
        "    count = 0\n",
        "    pred_count = 1\n",
        "    #some parameters to use in the for loop\n",
        "    pred_time = []\n",
        "    final_frame = []\n",
        "    clips = []\n",
        "    tmp = []\n",
        "\n",
        "    for i in tqdm(range(video_frame)): #iterating over all the frames of the video\n",
        "            #using openCV\n",
        "            ret, frame = capture.read()\n",
        "            count = count + 1\n",
        "\n",
        "            if count == dis:\n",
        "                count = count * 0\n",
        "                frame=cv2.resize(frame,(150,150),interpolation=cv2.INTER_AREA)\n",
        "                tmp.append(frame)\n",
        "                final_frame.append(frame)\n",
        "                \n",
        "            if i == ((pred_count * fpp) - 1):\n",
        "                inpt = np.array(tmp)\n",
        "                inpt = inpt.astype('float32')\n",
        "                inpt -= np.mean(inpt)\n",
        "                inpt /= np.max(inpt)\n",
        "                tmp = []\n",
        "                data = np.expand_dims(inpt, axis=0)\n",
        "                pred = model.predict(data, batch_size = 1) # verbose = 1\n",
        "                rate = pred[0][1] #prediction score stored\n",
        "                time_init = (pred_count - 1) / 0.5 #start time\n",
        "                time_end = pred_count / 0.5  # end time\n",
        "                #produce JSON file\n",
        "                if rate > 0.8: #if prediction score better than 80%, add in the JSON file\n",
        "                    time_result = ['Target: ' +  str(time_init) + 'secs - ' + str(time_end) + 'secs.']\n",
        "                    json_format = {\n",
        "                        'videoId': \"i5pKumDDgPo\",\n",
        "                        'type': \"segment\",\n",
        "                        'startTime': np.float(time_init),\n",
        "                        'endTime': np.float(time_end),\n",
        "                        'observer': 'CSCE636Spring2021-heswaggy-8',\n",
        "                        'isHuman': False,\n",
        "                        'confirmedBySomeone': False,\n",
        "                        'rejectedBySomeone': False,\n",
        "                        'observation': {\n",
        "                            'label': 'Cleaning windows glass doors etc',\n",
        "                            'labelConfidence': np.float(rate)\n",
        "                        }\n",
        "                    }\n",
        "                    clips.append(json_format)\n",
        "                else:\n",
        "                    time_result = ['Others: ' +  str(time_init) + 'secs - ' + str(time_end) + 'secs.']\n",
        "                pred_count += 1\n",
        "                pred_time.append(time_result)\n",
        "\n",
        "            if cv2.waitKey(1) & 0xFF == ord('q'):\n",
        "                break\n",
        "\n",
        "    capture.release()\n",
        "    cv2.destroyAllWindows()\n",
        "\n",
        "    with open(video, 'w', encoding='utf-8') as f:\n",
        "        json.dump(clips, f, indent=4)\n",
        "    return final_frame\n",
        "\n",
        "print(\"finished\")"
      ],
      "execution_count": 89,
      "outputs": [
        {
          "output_type": "stream",
          "text": [
            "finished\n"
          ],
          "name": "stdout"
        }
      ]
    },
    {
      "cell_type": "code",
      "metadata": {
        "id": "5J7aGpv_xqUH"
      },
      "source": [
        "!mkdir ResultOfDetection"
      ],
      "execution_count": 9,
      "outputs": []
    },
    {
      "cell_type": "code",
      "metadata": {
        "colab": {
          "base_uri": "https://localhost:8080/",
          "height": 120,
          "referenced_widgets": [
            "f24f6d011dd5463797918372c5204c83",
            "335e2bc69e354da3bfad7c69eeb6fa9f",
            "8107bd5aa4b64c67aafb48a6e2608155",
            "7dacd63582d144e3b3b52c76a7a2f3c1",
            "ad22422497fa40b68bd90b0e76ad42b2",
            "3ef4e1c29c6c4e8c9ae9fcd06dcaf13a",
            "e426ea94c96542abb400517dcf5a2966",
            "7f46a6e9ba4b4c6f8a513583184d03be"
          ]
        },
        "id": "5TkbNVmIUl-c",
        "outputId": "4afeab79-61ca-4650-f589-ec2dc1af6d12"
      },
      "source": [
        "final_frame = check_model('/content/applyvideos/video.25.mp4', '/content/ResultOfDetection/ResultOfDetection.25.json', model)"
      ],
      "execution_count": 90,
      "outputs": [
        {
          "output_type": "display_data",
          "data": {
            "application/vnd.jupyter.widget-view+json": {
              "model_id": "f24f6d011dd5463797918372c5204c83",
              "version_minor": 0,
              "version_major": 2
            },
            "text/plain": [
              "HBox(children=(FloatProgress(value=0.0, max=66416.0), HTML(value='')))"
            ]
          },
          "metadata": {
            "tags": []
          }
        },
        {
          "output_type": "stream",
          "text": [
            "WARNING:tensorflow:Model was constructed with shape (None, 5, 150, 150, 3) for input KerasTensor(type_spec=TensorSpec(shape=(None, 5, 150, 150, 3), dtype=tf.float32, name='time_distributed_4_input'), name='time_distributed_4_input', description=\"created by layer 'time_distributed_4_input'\"), but it was called on an input with incompatible shape (1, 16, 150, 150, 3).\n",
            "WARNING:tensorflow:Model was constructed with shape (None, 5, 150, 150, 3) for input KerasTensor(type_spec=TensorSpec(shape=(None, 5, 150, 150, 3), dtype=tf.float32, name='time_distributed_4_input'), name='time_distributed_4_input', description=\"created by layer 'time_distributed_4_input'\"), but it was called on an input with incompatible shape (1, 17, 150, 150, 3).\n",
            "\n"
          ],
          "name": "stdout"
        }
      ]
    },
    {
      "cell_type": "code",
      "metadata": {
        "id": "tdeLzEh9BoNC"
      },
      "source": [
        "!cp -a '/content/ResultOfDetection/' '/content/drive/MyDrive/Colab Notebooks/Submission 8'"
      ],
      "execution_count": 91,
      "outputs": []
    }
  ]
}